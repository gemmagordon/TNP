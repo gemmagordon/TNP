{
 "cells": [
  {
   "cell_type": "markdown",
   "metadata": {},
   "source": [
    "Code to get charge dispersion metrics (structure)"
   ]
  },
  {
   "cell_type": "code",
   "execution_count": 1,
   "metadata": {},
   "outputs": [],
   "source": [
    "import os\n",
    "import pandas as pd\n",
    "import prody as prd\n",
    "import numpy as np\n",
    "from collections import defaultdict, Counter\n",
    "#from multiprocessing import Pool\n",
    "from pathlib import Path"
   ]
  },
  {
   "cell_type": "code",
   "execution_count": 2,
   "metadata": {},
   "outputs": [],
   "source": [
    "def get_charge_dispersion(pdb):\n",
    "    \n",
    "    try:\n",
    "\n",
    "        prot = prd.parsePDB(pdb, QUIET=True)\n",
    "        positive_res = ['HIS', 'ARG', 'LYS']\n",
    "        negative_res = ['ASP', 'GLU']\n",
    "\n",
    "        central_atom = prd.pickCentralAtom(prot)\n",
    "        prd.moveAtoms(prot, to=np.zeros(3))\n",
    "\n",
    "        positive_distances = [prd.calcDistance(central_atom, prd.pickCentralAtom(res)) for res in prot.iterResidues() if res.getResname() in positive_res]\n",
    "        negative_distances = [prd.calcDistance(central_atom, prd.pickCentralAtom(res)) for res in prot.iterResidues() if res.getResname() in negative_res]\n",
    "        positive_dispersion = np.std(positive_distances)\n",
    "        negative_dispersion = np.std(negative_distances)\n",
    "        \n",
    "    except Exception:\n",
    "        positive_dispersion, negative_dispersion = 0, 0\n",
    "    \n",
    "    return positive_dispersion, negative_dispersion\n",
    "    "
   ]
  },
  {
   "cell_type": "code",
   "execution_count": null,
   "metadata": {},
   "outputs": [],
   "source": [
    "dataset_name = 'vhh_tsd'\n",
    "structure_path = '/reduced_strucs/reduced_'+dataset_name+'/'\n",
    "structures = os.listdir(structure_path)\n",
    "files = [structure_path + structure for structure in structures]\n"
   ]
  },
  {
   "cell_type": "code",
   "execution_count": 17,
   "metadata": {},
   "outputs": [
    {
     "name": "stderr",
     "output_type": "stream",
     "text": [
      "@> 1845 atoms and 1 coordinate set(s) were parsed in 0.04s.\n"
     ]
    },
    {
     "name": "stderr",
     "output_type": "stream",
     "text": [
      "@> 1925 atoms and 1 coordinate set(s) were parsed in 0.03s.\n",
      "@> 1750 atoms and 1 coordinate set(s) were parsed in 0.02s.\n",
      "@> 1792 atoms and 1 coordinate set(s) were parsed in 0.02s.\n",
      "@> 1685 atoms and 1 coordinate set(s) were parsed in 0.02s.\n",
      "@> 1782 atoms and 1 coordinate set(s) were parsed in 0.02s.\n",
      "@> 1768 atoms and 1 coordinate set(s) were parsed in 0.02s.\n",
      "@> 1853 atoms and 1 coordinate set(s) were parsed in 0.02s.\n",
      "@> 1863 atoms and 1 coordinate set(s) were parsed in 0.02s.\n",
      "@> 1715 atoms and 1 coordinate set(s) were parsed in 0.02s.\n",
      "@> 1742 atoms and 1 coordinate set(s) were parsed in 0.02s.\n",
      "@> 1700 atoms and 1 coordinate set(s) were parsed in 0.02s.\n",
      "@> 1858 atoms and 1 coordinate set(s) were parsed in 0.02s.\n",
      "@> 1757 atoms and 1 coordinate set(s) were parsed in 0.02s.\n",
      "@> 1766 atoms and 1 coordinate set(s) were parsed in 0.02s.\n",
      "@> 1840 atoms and 1 coordinate set(s) were parsed in 0.02s.\n",
      "@> 1773 atoms and 1 coordinate set(s) were parsed in 0.02s.\n",
      "@> 1773 atoms and 1 coordinate set(s) were parsed in 0.02s.\n",
      "@> 1727 atoms and 1 coordinate set(s) were parsed in 0.02s.\n",
      "@> 1810 atoms and 1 coordinate set(s) were parsed in 0.02s.\n",
      "@> 1792 atoms and 1 coordinate set(s) were parsed in 0.02s.\n",
      "@> 1904 atoms and 1 coordinate set(s) were parsed in 0.02s.\n",
      "@> 1915 atoms and 1 coordinate set(s) were parsed in 0.02s.\n",
      "@> 1718 atoms and 1 coordinate set(s) were parsed in 0.02s.\n",
      "@> 1744 atoms and 1 coordinate set(s) were parsed in 0.02s.\n",
      "@> 1905 atoms and 1 coordinate set(s) were parsed in 0.02s.\n",
      "@> 1850 atoms and 1 coordinate set(s) were parsed in 0.02s.\n",
      "@> 1866 atoms and 1 coordinate set(s) were parsed in 0.02s.\n",
      "@> 1859 atoms and 1 coordinate set(s) were parsed in 0.02s.\n",
      "@> 1759 atoms and 1 coordinate set(s) were parsed in 0.02s.\n",
      "@> 1921 atoms and 1 coordinate set(s) were parsed in 0.02s.\n",
      "@> 1852 atoms and 1 coordinate set(s) were parsed in 0.02s.\n",
      "@> 1693 atoms and 1 coordinate set(s) were parsed in 0.02s.\n",
      "@> 1870 atoms and 1 coordinate set(s) were parsed in 0.02s.\n",
      "@> 1806 atoms and 1 coordinate set(s) were parsed in 0.02s.\n",
      "@> 1751 atoms and 1 coordinate set(s) were parsed in 0.02s.\n",
      "@> 1879 atoms and 1 coordinate set(s) were parsed in 0.02s.\n",
      "@> 1842 atoms and 1 coordinate set(s) were parsed in 0.02s.\n",
      "@> 1874 atoms and 1 coordinate set(s) were parsed in 0.02s.\n",
      "@> 1791 atoms and 1 coordinate set(s) were parsed in 0.02s.\n",
      "@> 1747 atoms and 1 coordinate set(s) were parsed in 0.02s.\n",
      "@> 1859 atoms and 1 coordinate set(s) were parsed in 0.02s.\n",
      "@> 1762 atoms and 1 coordinate set(s) were parsed in 0.02s.\n",
      "@> 1708 atoms and 1 coordinate set(s) were parsed in 0.02s.\n",
      "@> 1693 atoms and 1 coordinate set(s) were parsed in 0.02s.\n",
      "@> 1912 atoms and 1 coordinate set(s) were parsed in 0.02s.\n",
      "@> 1826 atoms and 1 coordinate set(s) were parsed in 0.02s.\n",
      "@> 1916 atoms and 1 coordinate set(s) were parsed in 0.02s.\n",
      "@> 1796 atoms and 1 coordinate set(s) were parsed in 0.02s.\n",
      "@> 1839 atoms and 1 coordinate set(s) were parsed in 0.02s.\n",
      "@> 1876 atoms and 1 coordinate set(s) were parsed in 0.02s.\n",
      "@> 1867 atoms and 1 coordinate set(s) were parsed in 0.02s.\n",
      "@> 1681 atoms and 1 coordinate set(s) were parsed in 0.02s.\n",
      "@> 1867 atoms and 1 coordinate set(s) were parsed in 0.02s.\n",
      "@> 1788 atoms and 1 coordinate set(s) were parsed in 0.02s.\n",
      "@> 1880 atoms and 1 coordinate set(s) were parsed in 0.02s.\n",
      "@> 1903 atoms and 1 coordinate set(s) were parsed in 0.02s.\n",
      "@> 1862 atoms and 1 coordinate set(s) were parsed in 0.02s.\n",
      "@> 1697 atoms and 1 coordinate set(s) were parsed in 0.02s.\n",
      "@> 1850 atoms and 1 coordinate set(s) were parsed in 0.02s.\n",
      "@> 1784 atoms and 1 coordinate set(s) were parsed in 0.02s.\n",
      "@> 1875 atoms and 1 coordinate set(s) were parsed in 0.02s.\n",
      "@> 1816 atoms and 1 coordinate set(s) were parsed in 0.02s.\n",
      "@> 1915 atoms and 1 coordinate set(s) were parsed in 0.02s.\n",
      "@> 1902 atoms and 1 coordinate set(s) were parsed in 0.02s.\n",
      "@> 1856 atoms and 1 coordinate set(s) were parsed in 0.02s.\n",
      "@> 1891 atoms and 1 coordinate set(s) were parsed in 0.02s.\n",
      "@> 1683 atoms and 1 coordinate set(s) were parsed in 0.02s.\n",
      "@> 1838 atoms and 1 coordinate set(s) were parsed in 0.02s.\n",
      "@> 1793 atoms and 1 coordinate set(s) were parsed in 0.02s.\n",
      "@> 1711 atoms and 1 coordinate set(s) were parsed in 0.02s.\n",
      "@> 1771 atoms and 1 coordinate set(s) were parsed in 0.02s.\n",
      "@> 1803 atoms and 1 coordinate set(s) were parsed in 0.02s.\n",
      "@> 1796 atoms and 1 coordinate set(s) were parsed in 0.02s.\n",
      "@> 1885 atoms and 1 coordinate set(s) were parsed in 0.02s.\n",
      "@> 1837 atoms and 1 coordinate set(s) were parsed in 0.02s.\n",
      "@> 1811 atoms and 1 coordinate set(s) were parsed in 0.02s.\n",
      "@> 1913 atoms and 1 coordinate set(s) were parsed in 0.02s.\n",
      "@> 1837 atoms and 1 coordinate set(s) were parsed in 0.02s.\n",
      "@> 1887 atoms and 1 coordinate set(s) were parsed in 0.02s.\n",
      "@> 1959 atoms and 1 coordinate set(s) were parsed in 0.02s.\n",
      "@> 1744 atoms and 1 coordinate set(s) were parsed in 0.02s.\n",
      "@> 1807 atoms and 1 coordinate set(s) were parsed in 0.02s.\n",
      "@> 1892 atoms and 1 coordinate set(s) were parsed in 0.02s.\n",
      "@> 1793 atoms and 1 coordinate set(s) were parsed in 0.02s.\n",
      "@> 1765 atoms and 1 coordinate set(s) were parsed in 0.02s.\n",
      "@> 1933 atoms and 1 coordinate set(s) were parsed in 0.02s.\n",
      "@> 1726 atoms and 1 coordinate set(s) were parsed in 0.02s.\n",
      "@> 1878 atoms and 1 coordinate set(s) were parsed in 0.02s.\n",
      "@> 1681 atoms and 1 coordinate set(s) were parsed in 0.02s.\n",
      "@> 1754 atoms and 1 coordinate set(s) were parsed in 0.02s.\n",
      "@> 1854 atoms and 1 coordinate set(s) were parsed in 0.02s.\n",
      "@> 1881 atoms and 1 coordinate set(s) were parsed in 0.02s.\n",
      "@> 1827 atoms and 1 coordinate set(s) were parsed in 0.02s.\n",
      "@> 1807 atoms and 1 coordinate set(s) were parsed in 0.02s.\n",
      "@> 1678 atoms and 1 coordinate set(s) were parsed in 0.02s.\n",
      "@> 1782 atoms and 1 coordinate set(s) were parsed in 0.02s.\n",
      "@> 1901 atoms and 1 coordinate set(s) were parsed in 0.02s.\n",
      "@> 1658 atoms and 1 coordinate set(s) were parsed in 0.02s.\n",
      "@> 1703 atoms and 1 coordinate set(s) were parsed in 0.02s.\n",
      "@> 1832 atoms and 1 coordinate set(s) were parsed in 0.02s.\n",
      "@> 2025 atoms and 1 coordinate set(s) were parsed in 0.02s.\n",
      "@> 1916 atoms and 1 coordinate set(s) were parsed in 0.02s.\n",
      "@> 1874 atoms and 1 coordinate set(s) were parsed in 0.02s.\n",
      "@> 1763 atoms and 1 coordinate set(s) were parsed in 0.02s.\n",
      "@> 1822 atoms and 1 coordinate set(s) were parsed in 0.02s.\n",
      "@> 1746 atoms and 1 coordinate set(s) were parsed in 0.02s.\n",
      "@> 1837 atoms and 1 coordinate set(s) were parsed in 0.02s.\n"
     ]
    }
   ],
   "source": [
    "all_results = dict()\n",
    "for f in files:\n",
    "    structure = f.split('/')[-1].split('.')[0]\n",
    "    all_results[structure] = get_charge_dispersion(f)"
   ]
  },
  {
   "cell_type": "code",
   "execution_count": null,
   "metadata": {},
   "outputs": [],
   "source": [
    "df = pd.DataFrame(all_results).T.reset_index()\n",
    "df.columns = ['SeqID','positive_charge_heterogeneity', 'negative_charge_heterogeneity']\n",
    "df"
   ]
  },
  {
   "cell_type": "code",
   "execution_count": null,
   "metadata": {},
   "outputs": [],
   "source": [
    "#df.insert(0, 'ID', [s.split('/')[-1][:-4] for s in files])\n",
    "df.to_csv('results_charge_disp.csv', index=None)"
   ]
  },
  {
   "cell_type": "code",
   "execution_count": null,
   "metadata": {},
   "outputs": [],
   "source": []
  }
 ],
 "metadata": {
  "kernelspec": {
   "display_name": "nanob",
   "language": "python",
   "name": "python3"
  },
  "language_info": {
   "codemirror_mode": {
    "name": "ipython",
    "version": 3
   },
   "file_extension": ".py",
   "mimetype": "text/x-python",
   "name": "python",
   "nbconvert_exporter": "python",
   "pygments_lexer": "ipython3",
   "version": "3.10.4"
  }
 },
 "nbformat": 4,
 "nbformat_minor": 2
}
