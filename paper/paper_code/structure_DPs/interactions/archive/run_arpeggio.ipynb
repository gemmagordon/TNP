{
 "cells": [
  {
   "cell_type": "code",
   "execution_count": null,
   "metadata": {},
   "outputs": [],
   "source": [
    "## Gemma Gordon Nov 2024"
   ]
  },
  {
   "cell_type": "markdown",
   "metadata": {},
   "source": [
    "Run Arpeggio (https://github.com/harryjubb/arpeggio) to get interactions data for Nbs\n",
    "\n",
    "- run cleaning script first \n",
    "- run Arpeggio with -wh -he flags\n",
    "\n",
    "- arpeggio_env\n",
    "- openbabel 2.4.1\n",
    "- numpy\n",
    "- biopython 1.76\n",
    "- python 2.7.18\n"
   ]
  },
  {
   "cell_type": "code",
   "execution_count": null,
   "metadata": {},
   "outputs": [],
   "source": [
    "import os\n",
    "import subprocess\n",
    "from pathlib import Path"
   ]
  },
  {
   "cell_type": "code",
   "execution_count": null,
   "metadata": {},
   "outputs": [],
   "source": [
    "#cpus = 80\n",
    "dataset_name = 'vhh_oas'\n",
    "structure_path = '/data/localhost/gordon/TNP_Project/results/debugged_nbb2_results/new_'+dataset_name+'_output/Raw_Model_Outputs/'\n",
    "structures = [str(s).split('/')[-1] for s in list(Path(structure_path).glob('**/*.pdb'))]\n",
    "output_path = '/vols/opig/users/gordon/tnp_project/greiff_results/'+dataset_name+'_propka/'"
   ]
  },
  {
   "cell_type": "code",
   "execution_count": null,
   "metadata": {},
   "outputs": [],
   "source": [
    "os.chdir(output_path)"
   ]
  },
  {
   "cell_type": "code",
   "execution_count": null,
   "metadata": {},
   "outputs": [],
   "source": [
    "!pwd"
   ]
  },
  {
   "cell_type": "code",
   "execution_count": null,
   "metadata": {},
   "outputs": [],
   "source": [
    "def run_arpeggio(structure):\n",
    "    print(structure)\n",
    "    # clean structure\n",
    "    cmd = 'python /data/localhost/gordon/TNP_Project/greiff/gemma_scripts/arpeggio/clean_pdb.py {}'.format(structure_path + structure[:-4] + '/' + structure)\n",
    "    # run arpeggio on clean structure\n",
    "    cmd = 'python -m propka -q {}'.format(structure_path + structure[:-4] + '/' + structure)\n",
    "    subprocess.call(cmd, shell = True) "
   ]
  },
  {
   "cell_type": "code",
   "execution_count": null,
   "metadata": {},
   "outputs": [],
   "source": [
    "for structure in structures:\n",
    "    run_arpeggio(structure)"
   ]
  },
  {
   "cell_type": "code",
   "execution_count": null,
   "metadata": {},
   "outputs": [],
   "source": [
    "python /data/localhost/gordon/TNP_Project/greiff/gemma_scripts/arpeggio/clean_pdb.py /data/localhost/gordon/test.pdb"
   ]
  },
  {
   "cell_type": "code",
   "execution_count": null,
   "metadata": {},
   "outputs": [],
   "source": [
    "python /data/localhost/gordon/TNP_Project/greiff/gemma_scripts/arpeggio/arpeggio.py /data/localhost/gordon/test.clean.pdb -wh -he"
   ]
  },
  {
   "cell_type": "code",
   "execution_count": null,
   "metadata": {},
   "outputs": [],
   "source": []
  }
 ],
 "metadata": {
  "kernelspec": {
   "display_name": "Python 3",
   "language": "python",
   "name": "python3"
  },
  "language_info": {
   "codemirror_mode": {
    "name": "ipython",
    "version": 2
   },
   "file_extension": ".py",
   "mimetype": "text/x-python",
   "name": "python",
   "nbconvert_exporter": "python",
   "pygments_lexer": "ipython2",
   "version": "2.7.18"
  }
 },
 "nbformat": 4,
 "nbformat_minor": 2
}
