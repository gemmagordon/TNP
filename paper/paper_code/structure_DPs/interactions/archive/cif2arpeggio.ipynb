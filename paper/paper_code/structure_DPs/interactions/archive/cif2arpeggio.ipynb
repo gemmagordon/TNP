{
 "cells": [
  {
   "cell_type": "markdown",
   "metadata": {},
   "source": [
    "Run mmcif files through arpeggio"
   ]
  },
  {
   "cell_type": "code",
   "execution_count": 1,
   "metadata": {},
   "outputs": [],
   "source": [
    "#from multiprocessing import Pool\n",
    "import subprocess\n",
    "import os\n",
    "import time\n",
    "from pathlib import Path"
   ]
  },
  {
   "cell_type": "code",
   "execution_count": 22,
   "metadata": {},
   "outputs": [],
   "source": [
    "dataset_name = 'vhh_tsd'\n",
    "structure_path = '/vols/opig/users/gordon/tnp_project/greiff_results/'+dataset_name+'_cif/'\n",
    "structures = [str(s).split('/')[-1] for s in list(Path(structure_path).glob('**/*.cif'))]\n",
    "\n",
    "output_path = '/vols/opig/users/gordon/tnp_project/greiff_results/'+dataset_name+'_arp/'"
   ]
  },
  {
   "cell_type": "code",
   "execution_count": 8,
   "metadata": {},
   "outputs": [
    {
     "data": {
      "text/plain": [
       "36"
      ]
     },
     "execution_count": 8,
     "metadata": {},
     "output_type": "execute_result"
    }
   ],
   "source": [
    "len(structures)"
   ]
  },
  {
   "cell_type": "code",
   "execution_count": 23,
   "metadata": {},
   "outputs": [],
   "source": [
    "#cmds = ['OUTPUT_PATH=/vols/opig/users/gordon/tnp_project/greiff_results/arpeggio/', 'cd $OUTPUT_PATH']\n",
    "# subprocess.call(\";\".join(cmds), shell = True)    \n",
    "    \n",
    "def run(structure):\n",
    "    print(structure)\n",
    "    cmd = str('arpeggio {}'.format(structure_path + structure) + ' -o {}'.format(output_path))\n",
    "    print(cmd)\n",
    "    subprocess.call(cmd, shell = True) \n"
   ]
  },
  {
   "cell_type": "code",
   "execution_count": 24,
   "metadata": {},
   "outputs": [
    {
     "name": "stdout",
     "output_type": "stream",
     "text": [
      "seq27.cif\n",
      "arpeggio /vols/opig/users/gordon/tnp_project/greiff_results/vhh_tsd_cif/seq27.cif -o /vols/opig/users/gordon/tnp_project/greiff_results/vhh_tsd_arp/\n"
     ]
    },
    {
     "name": "stderr",
     "output_type": "stream",
     "text": [
      "INFO//12:05:27.142//Program begin.\n",
      "WARNING//12:05:27.143//No selection was perceived. Defaults into full structure!!\n",
      "Traceback (most recent call last):\n",
      "  File \"/data/localhost/gordon/miniconda3/envs/nanob/bin/arpeggio\", line 8, in <module>\n",
      "    sys.exit(main())\n",
      "  File \"/data/localhost/gordon/miniconda3/envs/nanob/lib/python3.10/site-packages/arpeggio/scripts/process_protein_cli.py\", line 150, in main\n",
      "    run_arpeggio(args)\n",
      "  File \"/data/localhost/gordon/miniconda3/envs/nanob/lib/python3.10/site-packages/arpeggio/scripts/process_protein_cli.py\", line 159, in run_arpeggio\n",
      "    i_complex = InteractionComplex(\n",
      "  File \"/data/localhost/gordon/miniconda3/envs/nanob/lib/python3.10/site-packages/arpeggio/core/interactions.py\", line 53, in __init__\n",
      "    self.biopython_str = self._read_in_biopython(filename)\n",
      "  File \"/data/localhost/gordon/miniconda3/envs/nanob/lib/python3.10/site-packages/arpeggio/core/interactions.py\", line 2032, in _read_in_biopython\n",
      "    else protein_reader.read_mmcif_to_biopython(path))\n",
      "  File \"/data/localhost/gordon/miniconda3/envs/nanob/lib/python3.10/site-packages/arpeggio/core/protein_reader.py\", line 273, in read_mmcif_to_biopython\n",
      "    st = gemmi.read_structure(path, merge_chain_parts=True)\n",
      "ValueError: /vols/opig/users/gordon/tnp_project/greiff_results/vhh_tsd_cif/seq27.cif:1:0(0): expected block header (data_)\n"
     ]
    }
   ],
   "source": [
    "# if __name__ == '__main__':\n",
    "#     pool = Pool(processes = cpus)\n",
    "#     results = pool.map(run, structures)\n",
    "#     pool.close()\n",
    "#     pool.join()\n",
    "\n",
    "for structure in structures[0:1]:\n",
    "    run(structure)"
   ]
  },
  {
   "cell_type": "code",
   "execution_count": null,
   "metadata": {},
   "outputs": [],
   "source": []
  }
 ],
 "metadata": {
  "kernelspec": {
   "display_name": "nanob",
   "language": "python",
   "name": "python3"
  },
  "language_info": {
   "codemirror_mode": {
    "name": "ipython",
    "version": 3
   },
   "file_extension": ".py",
   "mimetype": "text/x-python",
   "name": "python",
   "nbconvert_exporter": "python",
   "pygments_lexer": "ipython3",
   "version": "3.10.4"
  }
 },
 "nbformat": 4,
 "nbformat_minor": 2
}
