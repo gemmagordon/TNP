{
 "cells": [
  {
   "cell_type": "markdown",
   "metadata": {},
   "source": [
    "Process output from Arpeggio<br>\n",
    "Code from Bashour et al<br>\n",
    "13/2/25"
   ]
  },
  {
   "cell_type": "code",
   "execution_count": 1,
   "metadata": {},
   "outputs": [],
   "source": [
    "import os\n",
    "import json\n",
    "from operator import itemgetter\n",
    "from collections import defaultdict, Counter\n",
    "import numpy as np\n",
    "#from multiprocessing import Pool\n",
    "import pandas as pd"
   ]
  },
  {
   "cell_type": "code",
   "execution_count": null,
   "metadata": {},
   "outputs": [],
   "source": [
    "dataset_name = 'vhh_tsd'\n",
    "path = '/arpeggio/'+dataset_name+'/'\n",
    "files = [path + f for f in os.listdir(path) if f.endswith('.json')]"
   ]
  },
  {
   "cell_type": "code",
   "execution_count": null,
   "metadata": {},
   "outputs": [],
   "source": [
    "len(files)"
   ]
  },
  {
   "cell_type": "code",
   "execution_count": 91,
   "metadata": {},
   "outputs": [],
   "source": [
    "def flatten(t):\n",
    "    return [item for sublist in t for item in sublist]\n",
    "\n",
    "\n",
    "def run(f):\n",
    "    \n",
    "    #print(f)\n",
    "    d = {}\n",
    "    with open(f) as rf:\n",
    "        json_d = json.load(rf)\n",
    "\n",
    "        contacts = Counter(flatten([j['contact'] for j in json_d]))\n",
    "\n",
    "        interactions = [itemgetter('distance', 'interacting_entities', 'type')(j) for j in json_d]\n",
    "        interacting_entities = Counter([i[1] for i in interactions])\n",
    "        types = Counter([i[2] for i in interactions])\n",
    "\n",
    "        d.update(contacts)\n",
    "        d.update(interacting_entities)\n",
    "        d.update(types)\n",
    "        d.update({'distance': np.mean([i[0] for i in interactions])})\n",
    "        \n",
    "    return d"
   ]
  },
  {
   "cell_type": "code",
   "execution_count": null,
   "metadata": {},
   "outputs": [],
   "source": [
    "results = []\n",
    "for file in files:\n",
    "    output = run(file)\n",
    "    results.append(output)\n",
    "\n",
    "print(len(results))"
   ]
  },
  {
   "cell_type": "code",
   "execution_count": 93,
   "metadata": {},
   "outputs": [],
   "source": [
    "d_protint = defaultdict(dict)\n",
    "\n",
    "for n, (f, r) in enumerate(zip(files, results)):\n",
    "    #print(n)\n",
    "    name = f.split('/')[-1].split('.')[0]\n",
    "    d_protint[name] = r"
   ]
  },
  {
   "cell_type": "code",
   "execution_count": 94,
   "metadata": {},
   "outputs": [],
   "source": [
    "df = pd.DataFrame(d_protint.values(), index=d_protint.keys())"
   ]
  },
  {
   "cell_type": "code",
   "execution_count": 95,
   "metadata": {},
   "outputs": [
    {
     "data": {
      "text/plain": [
       "Index(['index', 'vdw', 'hydrophobic', 'proximal', 'weak_polar', 'polar',\n",
       "       'vdw_clash', 'hbond', 'carbonyl', 'weak_hbond', 'aromatic', 'ionic',\n",
       "       'covalent', 'EE', 'CARBONPI', 'DONORPI', 'METSULPHURPI', 'CATIONPI',\n",
       "       'AMIDEAMIDE', 'AMIDERING', 'INTRA_SELECTION', 'atom-atom',\n",
       "       'plane-plane', 'atom-plane', 'group-group', 'group-plane', 'distance',\n",
       "       'ET', 'FT', 'FE', 'EF', 'OF', 'OE', 'OT'],\n",
       "      dtype='object')"
      ]
     },
     "execution_count": 95,
     "metadata": {},
     "output_type": "execute_result"
    }
   ],
   "source": [
    "df = df.reset_index()\n",
    "df.columns"
   ]
  },
  {
   "cell_type": "code",
   "execution_count": null,
   "metadata": {},
   "outputs": [],
   "source": [
    "df = df.rename(columns={'index':'SeqID'})"
   ]
  },
  {
   "cell_type": "code",
   "execution_count": null,
   "metadata": {},
   "outputs": [],
   "source": [
    "df.to_csv('results/arpeggio/'+dataset_name+'_arpeggio.csv',index=False)"
   ]
  },
  {
   "cell_type": "code",
   "execution_count": null,
   "metadata": {},
   "outputs": [],
   "source": []
  }
 ],
 "metadata": {
  "kernelspec": {
   "display_name": "nanob",
   "language": "python",
   "name": "python3"
  },
  "language_info": {
   "codemirror_mode": {
    "name": "ipython",
    "version": 3
   },
   "file_extension": ".py",
   "mimetype": "text/x-python",
   "name": "python",
   "nbconvert_exporter": "python",
   "pygments_lexer": "ipython3",
   "version": "3.10.4"
  }
 },
 "nbformat": 4,
 "nbformat_minor": 2
}
