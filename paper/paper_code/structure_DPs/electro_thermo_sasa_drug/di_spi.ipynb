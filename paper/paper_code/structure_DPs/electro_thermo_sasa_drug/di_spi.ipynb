{
 "cells": [
  {
   "cell_type": "markdown",
   "metadata": {},
   "source": [
    "Analyse propka files to get other structure metrics"
   ]
  },
  {
   "cell_type": "markdown",
   "metadata": {},
   "source": [
    "Folded and unfolded pI"
   ]
  },
  {
   "cell_type": "code",
   "execution_count": 21,
   "metadata": {},
   "outputs": [],
   "source": [
    "import os\n",
    "import numpy as np\n",
    "#from multiprocessing import Pool\n",
    "import pandas as pd\n",
    "import json\n",
    "from operator import itemgetter\n",
    "from collections import defaultdict, Counter\n",
    "import freesasa\n",
    "import copy"
   ]
  },
  {
   "cell_type": "code",
   "execution_count": 22,
   "metadata": {},
   "outputs": [],
   "source": [
    "dataset_name = 'vhh_twist'"
   ]
  },
  {
   "cell_type": "code",
   "execution_count": 23,
   "metadata": {},
   "outputs": [],
   "source": [
    "# path = '/storage/evagsm/nobackup/crystal_dataset/structures/ABB_paired_propka/'\n",
    "# files = [path + f for f in os.listdir(path) if f.endswith('.pka')] \n",
    "# print(len(files))\n",
    "\n",
    "#propka_path = '/vols/opig/users/gordon/tnp_project/greiff_results/'+dataset_name+'_propka/'\n",
    "propka_path = '/data/localhost/gordon/TNP_Project/RESULTS/greiff_results/propka/'+dataset_name+'_propka/'\n",
    "propka_files = [propka_path + f for f in os.listdir(propka_path) if f.endswith('.pka')] "
   ]
  },
  {
   "cell_type": "code",
   "execution_count": 24,
   "metadata": {},
   "outputs": [
    {
     "data": {
      "text/plain": [
       "108"
      ]
     },
     "execution_count": 24,
     "metadata": {},
     "output_type": "execute_result"
    }
   ],
   "source": [
    "len(propka_files)"
   ]
  },
  {
   "cell_type": "code",
   "execution_count": 25,
   "metadata": {},
   "outputs": [],
   "source": [
    "def run_pi(file):\n",
    "    try:\n",
    "        with open(file) as rf:\n",
    "            pI_line = [line for line in rf.readlines() if line.startswith('The pI is')][0]\n",
    "            #print(pI_line.split()[3], pI_line.split()[6])\n",
    "            return pI_line.split()[3], pI_line.split()[6]\n",
    "    except Exception:\n",
    "        return None, None"
   ]
  },
  {
   "cell_type": "code",
   "execution_count": 26,
   "metadata": {},
   "outputs": [],
   "source": [
    "all_results = dict()\n",
    "for f in propka_files:\n",
    "    structure = f.split('/')[-1].split('.')[0]\n",
    "    results = run_pi(f)\n",
    "    all_results[structure] = results"
   ]
  },
  {
   "cell_type": "code",
   "execution_count": 27,
   "metadata": {},
   "outputs": [
    {
     "data": {
      "text/plain": [
       "108"
      ]
     },
     "execution_count": 27,
     "metadata": {},
     "output_type": "execute_result"
    }
   ],
   "source": [
    "len(all_results)"
   ]
  },
  {
   "cell_type": "code",
   "execution_count": 28,
   "metadata": {},
   "outputs": [],
   "source": [
    "df = pd.DataFrame(all_results).T.reset_index()\n",
    "df.columns = ['SeqID','folded_pI', 'unfolded_pI']"
   ]
  },
  {
   "cell_type": "code",
   "execution_count": 29,
   "metadata": {},
   "outputs": [
    {
     "data": {
      "text/html": [
       "<div>\n",
       "<style scoped>\n",
       "    .dataframe tbody tr th:only-of-type {\n",
       "        vertical-align: middle;\n",
       "    }\n",
       "\n",
       "    .dataframe tbody tr th {\n",
       "        vertical-align: top;\n",
       "    }\n",
       "\n",
       "    .dataframe thead th {\n",
       "        text-align: right;\n",
       "    }\n",
       "</style>\n",
       "<table border=\"1\" class=\"dataframe\">\n",
       "  <thead>\n",
       "    <tr style=\"text-align: right;\">\n",
       "      <th></th>\n",
       "      <th>SeqID</th>\n",
       "      <th>folded_pI</th>\n",
       "      <th>unfolded_pI</th>\n",
       "    </tr>\n",
       "  </thead>\n",
       "  <tbody>\n",
       "    <tr>\n",
       "      <th>0</th>\n",
       "      <td>seq_D11D77826-3826-KV</td>\n",
       "      <td>4.51</td>\n",
       "      <td>5.19</td>\n",
       "    </tr>\n",
       "    <tr>\n",
       "      <th>1</th>\n",
       "      <td>seq_Gocatamig2_VHH1</td>\n",
       "      <td>8.68</td>\n",
       "      <td>8.46</td>\n",
       "    </tr>\n",
       "    <tr>\n",
       "      <th>2</th>\n",
       "      <td>seq_Envafolimab_VHH1</td>\n",
       "      <td>9.68</td>\n",
       "      <td>9.46</td>\n",
       "    </tr>\n",
       "    <tr>\n",
       "      <th>3</th>\n",
       "      <td>seq_Podentamig1_VHH1</td>\n",
       "      <td>9.04</td>\n",
       "      <td>9.11</td>\n",
       "    </tr>\n",
       "    <tr>\n",
       "      <th>4</th>\n",
       "      <td>seq_Lofacimig_VHH1</td>\n",
       "      <td>6.65</td>\n",
       "      <td>7.19</td>\n",
       "    </tr>\n",
       "  </tbody>\n",
       "</table>\n",
       "</div>"
      ],
      "text/plain": [
       "                   SeqID folded_pI unfolded_pI\n",
       "0  seq_D11D77826-3826-KV      4.51        5.19\n",
       "1    seq_Gocatamig2_VHH1      8.68        8.46\n",
       "2   seq_Envafolimab_VHH1      9.68        9.46\n",
       "3   seq_Podentamig1_VHH1      9.04        9.11\n",
       "4     seq_Lofacimig_VHH1      6.65        7.19"
      ]
     },
     "execution_count": 29,
     "metadata": {},
     "output_type": "execute_result"
    }
   ],
   "source": [
    "df.head()"
   ]
  },
  {
   "cell_type": "code",
   "execution_count": 30,
   "metadata": {},
   "outputs": [],
   "source": [
    "df.to_csv('/data/localhost/gordon/TNP_Project/RESULTS/greiff_results/folded_unfolded_pi/vhh_twist_fold_unfold_pi.csv', index=False)"
   ]
  },
  {
   "cell_type": "markdown",
   "metadata": {},
   "source": [
    "-------------------------------------------------------------------------------------------------------------"
   ]
  },
  {
   "cell_type": "markdown",
   "metadata": {},
   "source": [
    "-------------------------------------------------------------------------------------------------------------"
   ]
  },
  {
   "cell_type": "code",
   "execution_count": 31,
   "metadata": {},
   "outputs": [],
   "source": [
    "from pathlib import Path"
   ]
  },
  {
   "cell_type": "markdown",
   "metadata": {},
   "source": [
    "Second part"
   ]
  },
  {
   "cell_type": "markdown",
   "metadata": {},
   "source": [
    "Free energy of folding, folded charge at ph7, unfolded charge at ph7"
   ]
  },
  {
   "cell_type": "code",
   "execution_count": 49,
   "metadata": {},
   "outputs": [],
   "source": [
    "dataset_name = 'vhh_twist'"
   ]
  },
  {
   "cell_type": "code",
   "execution_count": 50,
   "metadata": {},
   "outputs": [],
   "source": [
    "# propka files\n",
    "#propka_path = '/vols/opig/users/gordon/tnp_project/greiff_results/'+dataset_name+'_propka/'\n",
    "propka_path = '/data/localhost/gordon/TNP_Project/RESULTS/greiff_results/propka/'+dataset_name+'_propka/'\n",
    "propka_files = sorted([propka_path + f for f in os.listdir(propka_path) if f.endswith('.pka')])"
   ]
  },
  {
   "cell_type": "code",
   "execution_count": 51,
   "metadata": {},
   "outputs": [
    {
     "data": {
      "text/plain": [
       "108"
      ]
     },
     "execution_count": 51,
     "metadata": {},
     "output_type": "execute_result"
    }
   ],
   "source": [
    "len(propka_files)"
   ]
  },
  {
   "cell_type": "code",
   "execution_count": 52,
   "metadata": {},
   "outputs": [],
   "source": [
    "def propka_data(f):\n",
    "\n",
    "    try:\n",
    "        \n",
    "        with open(f) as rf:\n",
    "            all_lines = [l.strip() for l in rf.readlines()] \n",
    "\n",
    "        #sp = [n for n, l in enumerate(all_lines) if l.startswith('SUMMARY OF THIS PREDICTION')]\n",
    "        ffe = [n for n, l in enumerate(all_lines) if l.startswith('Free energy of')]\n",
    "        pc = [n for n, l in enumerate(all_lines) if l.startswith('Protein charge of folded')]\n",
    "\n",
    "        folding_free_energy = [i for i in all_lines[ffe[0]+1:pc[0]] if i and i[0].isnumeric()] # read all the lines between this section and where protein charge section starts\n",
    "        ffe_ph7 = [f for f in folding_free_energy if f.startswith('7.00')][0].split()[1] # extract just value for ph7\n",
    "\n",
    "        protein_charge = [i for i in all_lines[pc[0]+2:-1]]\n",
    "        ph, pc_ph7_unfolded, pc_ph7_folded  = [p for p in protein_charge if p.startswith('7.00')][0].split()\n",
    "\n",
    "    except Exception:\n",
    "        print('PROPKA:', f.split('/')[-1][:-4]) \n",
    "        \n",
    "    return {'SeqID': f.split('/')[-1][:-4], \n",
    "            'Free energy of folding':ffe_ph7,\n",
    "            'Unfolded charge pH7':pc_ph7_unfolded,\n",
    "            'Folded charge pH7': pc_ph7_folded}"
   ]
  },
  {
   "cell_type": "code",
   "execution_count": 53,
   "metadata": {},
   "outputs": [],
   "source": [
    "all_propka_results = []\n",
    "for p in propka_files:\n",
    "    results = propka_data(p)\n",
    "    all_propka_results.append(results)"
   ]
  },
  {
   "cell_type": "code",
   "execution_count": 54,
   "metadata": {},
   "outputs": [
    {
     "data": {
      "text/plain": [
       "108"
      ]
     },
     "execution_count": 54,
     "metadata": {},
     "output_type": "execute_result"
    }
   ],
   "source": [
    "len(all_propka_results)"
   ]
  },
  {
   "cell_type": "code",
   "execution_count": 55,
   "metadata": {},
   "outputs": [],
   "source": [
    "df = pd.DataFrame(all_propka_results)#.T.reset_index()\n",
    "#df.columns = ['SeqID','folded_pI', 'unfolded_pI']"
   ]
  },
  {
   "cell_type": "code",
   "execution_count": 56,
   "metadata": {},
   "outputs": [],
   "source": [
    "df.to_csv('/data/localhost/gordon/TNP_Project/RESULTS/greiff_results/folded_unfolded_charge/vhh_twist_fold_unfold_charge.csv',index=False)"
   ]
  },
  {
   "cell_type": "markdown",
   "metadata": {},
   "source": [
    "-------------------------------------------------------------------------------------------------------------"
   ]
  },
  {
   "cell_type": "markdown",
   "metadata": {},
   "source": [
    "-------------------------------------------------------------------------------------------------------------"
   ]
  },
  {
   "cell_type": "markdown",
   "metadata": {},
   "source": [
    "SASA, SAP (structural aggregation propensity), DI (developability index)"
   ]
  },
  {
   "cell_type": "code",
   "execution_count": 81,
   "metadata": {},
   "outputs": [],
   "source": [
    "dataset_name = 'vhh_twist'"
   ]
  },
  {
   "cell_type": "code",
   "execution_count": 82,
   "metadata": {},
   "outputs": [],
   "source": [
    "# structure files (pdb) hydrogenated !!!\n",
    "#structure_path = '/data/localhost/gordon/TNP_Project/results/debugged_nbb2_results/new_'+dataset_name+'_output/Raw_Model_Outputs/'\n",
    "#structures = [str(s).split('/')[-1] for s in list(Path(structure_path).glob('**/*.pdb'))]\n",
    "\n",
    "structure_path = '/data/localhost/gordon/TNP_Project/RESULTS/greiff_results/reduced_strucs/reduced_'+dataset_name+'/'\n",
    "structures = os.listdir(structure_path)\n",
    "structure_files = sorted([structure_path + structure for structure in structures])"
   ]
  },
  {
   "cell_type": "code",
   "execution_count": 83,
   "metadata": {},
   "outputs": [
    {
     "data": {
      "text/plain": [
       "108"
      ]
     },
     "execution_count": 83,
     "metadata": {},
     "output_type": "execute_result"
    }
   ],
   "source": [
    "len(structure_files)"
   ]
  },
  {
   "cell_type": "code",
   "execution_count": 84,
   "metadata": {},
   "outputs": [],
   "source": [
    "def exposed_sasas():\n",
    "    \n",
    "    backbone = ['C', 'N', 'CA', 'O']\n",
    "    \n",
    "    exposed_sasas = defaultdict(dict)\n",
    "    \n",
    "    tripeptides = ['A_A_A.pdb', 'A_C_A.pdb', 'A_D_A.pdb', 'A_E_A.pdb', \n",
    "                'A_F_A.pdb', 'A_G_A.pdb', 'A_H_A.pdb', 'A_I_A.pdb',\n",
    "                'A_K_A.pdb', 'A_L_A.pdb', 'A_M_A.pdb', 'A_N_A.pdb',\n",
    "                'A_P_A.pdb', 'A_Q_A.pdb', 'A_R_A.pdb', 'A_S_A.pdb',\n",
    "                'A_T_A.pdb', 'A_V_A.pdb', 'A_W_A.pdb', 'A_Y_A.pdb']\n",
    "    \n",
    "    for peptide in tripeptides:\n",
    "        structure = freesasa.Structure(peptide)\n",
    "        sasa = freesasa.calc(structure)\n",
    "        \n",
    "        for atom in range(structure.nAtoms()):\n",
    "            if structure.residueNumber(atom).strip() == '3':\n",
    "                data = structure.residueName(atom).strip(), structure.atomName(atom).strip(), sasa.atomArea(atom)\n",
    "                exposed_sasas[data[0]].update({data[1]: data[2]})\n",
    "                \n",
    "    exposed_side_chain_sasas = {k: 0 for k in exposed_sasas.keys()}\n",
    "    \n",
    "    for aa in exposed_sasas:\n",
    "        for atom in exposed_sasas[aa].keys():\n",
    "            if not atom in backbone:\n",
    "                exposed_side_chain_sasas[aa] += exposed_sasas[aa][atom]\n",
    "\n",
    "    return exposed_side_chain_sasas\n"
   ]
  },
  {
   "cell_type": "code",
   "execution_count": 85,
   "metadata": {},
   "outputs": [],
   "source": [
    "exposed_side_chain_sasas = exposed_sasas()"
   ]
  },
  {
   "cell_type": "code",
   "execution_count": 86,
   "metadata": {},
   "outputs": [],
   "source": [
    "# Black, S. D., & Mould, D. R. (1991). Development of hydrophobicity parameters to analyze proteins which bear post- or cotranslational modifications. Analytical Biochemistry, 193(1), 72–82. doi:10.1016/0003-2697(91)90045-u \n",
    "hydrophobicity = {'ALA': 0.616,\n",
    "                'CYS': 0.680,\n",
    "                'ASP': 0.028,\n",
    "                'GLU': 0.043,\n",
    "                'PHE': 1.000,\n",
    "                'GLY': 0.501,\n",
    "                'HIS': 0.165,\n",
    "                'ILE': 0.943,\n",
    "                'LYS': 0.283,\n",
    "                'LEU': 0.943,\n",
    "                'MET': 0.738,\n",
    "                'ASN': 0.236,\n",
    "                'PRO': 0.711,\n",
    "                'GLN': 0.251,\n",
    "                'ARG': 0.000,\n",
    "                'SER': 0.359,\n",
    "                'THR': 0.450,\n",
    "                'VAL': 0.825,\n",
    "                'TRP': 0.878,\n",
    "                'TYR': 0.880}"
   ]
  },
  {
   "cell_type": "code",
   "execution_count": 87,
   "metadata": {},
   "outputs": [],
   "source": [
    "def sap(filename, exposed_side_chain_sasas = exposed_side_chain_sasas, hydrophobicity = hydrophobicity):\n",
    "    \n",
    "    def sasa(filename):\n",
    "\n",
    "        backbone = ['C', 'N', 'CA', 'O']\n",
    "\n",
    "        sasas = defaultdict(dict)\n",
    "        sasa_int = 0\n",
    "\n",
    "        structure = freesasa.Structure(filename)\n",
    "        sasa = freesasa.calc(structure)\n",
    "\n",
    "        for atom in range(structure.nAtoms()):\n",
    "            data = structure.residueName(atom).strip(), structure.residueNumber(atom).strip(), structure.chainLabel(atom).strip(), structure.atomName(atom).strip(), sasa.atomArea(atom)\n",
    "            idx = '_'.join(data[:3])\n",
    "            sasas[idx].update({data[3]: data[4]})\n",
    "            sasa_int += data[4]\n",
    "\n",
    "        return sasas, sasa_int\n",
    "    \n",
    "    def side_chain_sasa(sasas):\n",
    "\n",
    "        backbone = ['C', 'N', 'CA', 'O']\n",
    "\n",
    "        side_chain_sasas = {k: 0 for k in sasas.keys()}\n",
    "        side_chain_sasa_int = 0\n",
    "\n",
    "        for res in sasas:\n",
    "            for atom in sasas[res].keys():\n",
    "                if not atom in backbone:\n",
    "                    side_chain_sasas[res] += sasas[res][atom]\n",
    "                    side_chain_sasa_int += sasas[res][atom]\n",
    "\n",
    "        return side_chain_sasas, side_chain_sasa_int\n",
    "\n",
    "    try:\n",
    "    \n",
    "        sasas = sasa(filename)\n",
    "        side_chain_sasas_ = side_chain_sasa(sasas[0])\n",
    "        side_chain_sasas = side_chain_sasas_[0]\n",
    "\n",
    "        sap_values = {}\n",
    "\n",
    "        for i in side_chain_sasas:\n",
    "            for j in exposed_side_chain_sasas:\n",
    "                if i.startswith(j):\n",
    "                    try:\n",
    "                        #print(i, j, side_chain_sasas[i] / exposed_side_chain_sasas[j])\n",
    "                        sasa = side_chain_sasas[i] / exposed_side_chain_sasas[j]\n",
    "                    except ZeroDivisionError:\n",
    "                        if i.startswith('GLY'):\n",
    "                            #print(i, j, 0)\n",
    "                            sasa = 0 \n",
    "                    sap = sasa * hydrophobicity[j]\n",
    "                    sap_values[i] = sap\n",
    "\n",
    "        sap_score = sum(sap_values.values())\n",
    "        \n",
    "        return {'SeqID':filename.split('/')[-1][:-4], \n",
    "                'SASA': sasas[1], \n",
    "                'Side chain SASA':side_chain_sasas_[1],  \n",
    "                'SAP score':sap_score} # NOTE GG removed sap_values in output \n",
    "        \n",
    "    except Exception:\n",
    "        print(filename.split('/')[-1][:-4])\n",
    "        # print('SASA:', filename.split('/')[-1][:-4])\n",
    "        # sap_values = {'SER_2_L': np.inf, 'VAL_3_L': np.inf, 'LEU_4_L': np.inf}\n",
    "        \n",
    "        #return filename.split('/')[-1][:-4], np.inf, np.inf, sap_values, np.inf\n",
    "        return filename.split('/')[-1][:-4], np.inf, np.inf, np.inf     \n"
   ]
  },
  {
   "cell_type": "code",
   "execution_count": 88,
   "metadata": {},
   "outputs": [],
   "source": [
    "all_sap_results = []\n",
    "for s in structure_files:\n",
    "    #structure = s.split('/')[-1].split('.')[0]\n",
    "    results = sap(s)\n",
    "    all_sap_results.append(results)"
   ]
  },
  {
   "cell_type": "code",
   "execution_count": 89,
   "metadata": {},
   "outputs": [
    {
     "data": {
      "text/plain": [
       "108"
      ]
     },
     "execution_count": 89,
     "metadata": {},
     "output_type": "execute_result"
    }
   ],
   "source": [
    "len(all_sap_results)"
   ]
  },
  {
   "cell_type": "code",
   "execution_count": 90,
   "metadata": {},
   "outputs": [],
   "source": [
    "df = pd.DataFrame(all_sap_results)"
   ]
  },
  {
   "cell_type": "code",
   "execution_count": 91,
   "metadata": {},
   "outputs": [
    {
     "data": {
      "text/html": [
       "<div>\n",
       "<style scoped>\n",
       "    .dataframe tbody tr th:only-of-type {\n",
       "        vertical-align: middle;\n",
       "    }\n",
       "\n",
       "    .dataframe tbody tr th {\n",
       "        vertical-align: top;\n",
       "    }\n",
       "\n",
       "    .dataframe thead th {\n",
       "        text-align: right;\n",
       "    }\n",
       "</style>\n",
       "<table border=\"1\" class=\"dataframe\">\n",
       "  <thead>\n",
       "    <tr style=\"text-align: right;\">\n",
       "      <th></th>\n",
       "      <th>SeqID</th>\n",
       "      <th>SASA</th>\n",
       "      <th>Side chain SASA</th>\n",
       "      <th>SAP score</th>\n",
       "    </tr>\n",
       "  </thead>\n",
       "  <tbody>\n",
       "    <tr>\n",
       "      <th>0</th>\n",
       "      <td>seq_Brivekimig1_VHH1</td>\n",
       "      <td>6126.007954</td>\n",
       "      <td>4574.552853</td>\n",
       "      <td>14.901449</td>\n",
       "    </tr>\n",
       "    <tr>\n",
       "      <th>1</th>\n",
       "      <td>seq_Brivekimig1_VHH2</td>\n",
       "      <td>6298.899166</td>\n",
       "      <td>4787.796926</td>\n",
       "      <td>15.188063</td>\n",
       "    </tr>\n",
       "    <tr>\n",
       "      <th>2</th>\n",
       "      <td>seq_Brivekimig2_VHH1</td>\n",
       "      <td>5996.372113</td>\n",
       "      <td>4322.464660</td>\n",
       "      <td>15.668135</td>\n",
       "    </tr>\n",
       "    <tr>\n",
       "      <th>3</th>\n",
       "      <td>seq_Caplacizumab_VHH1</td>\n",
       "      <td>6099.079770</td>\n",
       "      <td>4592.406014</td>\n",
       "      <td>14.344442</td>\n",
       "    </tr>\n",
       "    <tr>\n",
       "      <th>4</th>\n",
       "      <td>seq_D11D77826-1763-I</td>\n",
       "      <td>5798.427788</td>\n",
       "      <td>4300.676229</td>\n",
       "      <td>15.280289</td>\n",
       "    </tr>\n",
       "  </tbody>\n",
       "</table>\n",
       "</div>"
      ],
      "text/plain": [
       "                   SeqID         SASA  Side chain SASA  SAP score\n",
       "0   seq_Brivekimig1_VHH1  6126.007954      4574.552853  14.901449\n",
       "1   seq_Brivekimig1_VHH2  6298.899166      4787.796926  15.188063\n",
       "2   seq_Brivekimig2_VHH1  5996.372113      4322.464660  15.668135\n",
       "3  seq_Caplacizumab_VHH1  6099.079770      4592.406014  14.344442\n",
       "4   seq_D11D77826-1763-I  5798.427788      4300.676229  15.280289"
      ]
     },
     "execution_count": 91,
     "metadata": {},
     "output_type": "execute_result"
    }
   ],
   "source": [
    "df.head()"
   ]
  },
  {
   "cell_type": "code",
   "execution_count": 92,
   "metadata": {},
   "outputs": [],
   "source": [
    "df.to_csv('/data/localhost/gordon/TNP_Project/RESULTS/greiff_results/sasa_sap/vhh_twist_sasa_sap.csv',index=False)"
   ]
  },
  {
   "cell_type": "markdown",
   "metadata": {},
   "source": [
    "-----------------------------------------------------------------------------------------------------------------"
   ]
  },
  {
   "cell_type": "markdown",
   "metadata": {},
   "source": [
    "DI (developability index)"
   ]
  },
  {
   "cell_type": "markdown",
   "metadata": {},
   "source": [
    "https://www.sciencedirect.com/science/article/pii/S0022354915317780"
   ]
  },
  {
   "cell_type": "markdown",
   "metadata": {},
   "source": [
    "Using 'net charge' taken to mean folded charge of the structure at ph7"
   ]
  },
  {
   "cell_type": "markdown",
   "metadata": {},
   "source": [
    "Equation for DI = SAP score - B x (net charge)^2"
   ]
  },
  {
   "cell_type": "code",
   "execution_count": 111,
   "metadata": {},
   "outputs": [],
   "source": [
    "dataset_name = 'vhh_twist'"
   ]
  },
  {
   "cell_type": "code",
   "execution_count": 112,
   "metadata": {},
   "outputs": [],
   "source": [
    "def get_di(charge_data, sap_data):\n",
    "    \n",
    "    # load in charge data\n",
    "    charges = pd.read_csv(charge_data)\n",
    "    # load in sap data\n",
    "    saps = pd.read_csv(sap_data)\n",
    "    # merge data on SeqID so using correct corresponding charge and SAP values\n",
    "    df = charges.merge(saps, on='SeqID')\n",
    "\n",
    "    beta = 0.0815 # according to Greiff code base\n",
    "\n",
    "    di_values = []\n",
    "    for charge,sap in zip(list(df['SAP score']),list(df['Folded charge pH7'])):\n",
    "        di = sap - (beta * (charge)**2)\n",
    "        di_values.append(di)\n",
    "    \n",
    "    df['DI score'] = di_values\n",
    "\n",
    "    return df"
   ]
  },
  {
   "cell_type": "code",
   "execution_count": 113,
   "metadata": {},
   "outputs": [],
   "source": [
    "charge_data = '/data/localhost/gordon/TNP_Project/RESULTS/greiff_results/folded_unfolded_charge/'+dataset_name+'_fold_unfold_charge.csv'\n",
    "sap_data = '/data/localhost/gordon/TNP_Project/RESULTS/greiff_results/sasa_sap/'+dataset_name+'_sasa_sap.csv'"
   ]
  },
  {
   "cell_type": "code",
   "execution_count": 114,
   "metadata": {},
   "outputs": [],
   "source": [
    "df = get_di(charge_data, sap_data)"
   ]
  },
  {
   "cell_type": "code",
   "execution_count": 115,
   "metadata": {},
   "outputs": [
    {
     "data": {
      "text/plain": [
       "108"
      ]
     },
     "execution_count": 115,
     "metadata": {},
     "output_type": "execute_result"
    }
   ],
   "source": [
    "len(df)"
   ]
  },
  {
   "cell_type": "code",
   "execution_count": 116,
   "metadata": {},
   "outputs": [
    {
     "data": {
      "text/html": [
       "<div>\n",
       "<style scoped>\n",
       "    .dataframe tbody tr th:only-of-type {\n",
       "        vertical-align: middle;\n",
       "    }\n",
       "\n",
       "    .dataframe tbody tr th {\n",
       "        vertical-align: top;\n",
       "    }\n",
       "\n",
       "    .dataframe thead th {\n",
       "        text-align: right;\n",
       "    }\n",
       "</style>\n",
       "<table border=\"1\" class=\"dataframe\">\n",
       "  <thead>\n",
       "    <tr style=\"text-align: right;\">\n",
       "      <th></th>\n",
       "      <th>SeqID</th>\n",
       "      <th>Free energy of folding</th>\n",
       "      <th>Unfolded charge pH7</th>\n",
       "      <th>Folded charge pH7</th>\n",
       "      <th>SASA</th>\n",
       "      <th>Side chain SASA</th>\n",
       "      <th>SAP score</th>\n",
       "      <th>DI score</th>\n",
       "    </tr>\n",
       "  </thead>\n",
       "  <tbody>\n",
       "    <tr>\n",
       "      <th>0</th>\n",
       "      <td>seq_Brivekimig1_VHH1</td>\n",
       "      <td>-12.46</td>\n",
       "      <td>2.92</td>\n",
       "      <td>2.40</td>\n",
       "      <td>6126.007954</td>\n",
       "      <td>4574.552853</td>\n",
       "      <td>14.901449</td>\n",
       "      <td>-15.697335</td>\n",
       "    </tr>\n",
       "    <tr>\n",
       "      <th>1</th>\n",
       "      <td>seq_Brivekimig1_VHH2</td>\n",
       "      <td>-11.33</td>\n",
       "      <td>2.92</td>\n",
       "      <td>2.49</td>\n",
       "      <td>6298.899166</td>\n",
       "      <td>4787.796926</td>\n",
       "      <td>15.188063</td>\n",
       "      <td>-16.310197</td>\n",
       "    </tr>\n",
       "    <tr>\n",
       "      <th>2</th>\n",
       "      <td>seq_Brivekimig2_VHH1</td>\n",
       "      <td>-13.83</td>\n",
       "      <td>1.90</td>\n",
       "      <td>1.82</td>\n",
       "      <td>5996.372113</td>\n",
       "      <td>4322.464660</td>\n",
       "      <td>15.668135</td>\n",
       "      <td>-18.187471</td>\n",
       "    </tr>\n",
       "    <tr>\n",
       "      <th>3</th>\n",
       "      <td>seq_Caplacizumab_VHH1</td>\n",
       "      <td>-21.73</td>\n",
       "      <td>2.93</td>\n",
       "      <td>2.84</td>\n",
       "      <td>6099.079770</td>\n",
       "      <td>4592.406014</td>\n",
       "      <td>14.344442</td>\n",
       "      <td>-13.929687</td>\n",
       "    </tr>\n",
       "    <tr>\n",
       "      <th>4</th>\n",
       "      <td>seq_D11D77826-1763-I</td>\n",
       "      <td>-14.53</td>\n",
       "      <td>1.92</td>\n",
       "      <td>1.78</td>\n",
       "      <td>5798.427788</td>\n",
       "      <td>4300.676229</td>\n",
       "      <td>15.280289</td>\n",
       "      <td>-17.249209</td>\n",
       "    </tr>\n",
       "  </tbody>\n",
       "</table>\n",
       "</div>"
      ],
      "text/plain": [
       "                   SeqID  Free energy of folding  Unfolded charge pH7  \\\n",
       "0   seq_Brivekimig1_VHH1                  -12.46                 2.92   \n",
       "1   seq_Brivekimig1_VHH2                  -11.33                 2.92   \n",
       "2   seq_Brivekimig2_VHH1                  -13.83                 1.90   \n",
       "3  seq_Caplacizumab_VHH1                  -21.73                 2.93   \n",
       "4   seq_D11D77826-1763-I                  -14.53                 1.92   \n",
       "\n",
       "   Folded charge pH7         SASA  Side chain SASA  SAP score   DI score  \n",
       "0               2.40  6126.007954      4574.552853  14.901449 -15.697335  \n",
       "1               2.49  6298.899166      4787.796926  15.188063 -16.310197  \n",
       "2               1.82  5996.372113      4322.464660  15.668135 -18.187471  \n",
       "3               2.84  6099.079770      4592.406014  14.344442 -13.929687  \n",
       "4               1.78  5798.427788      4300.676229  15.280289 -17.249209  "
      ]
     },
     "execution_count": 116,
     "metadata": {},
     "output_type": "execute_result"
    }
   ],
   "source": [
    "df.head()"
   ]
  },
  {
   "cell_type": "code",
   "execution_count": 117,
   "metadata": {},
   "outputs": [],
   "source": [
    "df.to_csv('/data/localhost/gordon/TNP_Project/RESULTS/greiff_results/dev_index/vhh_twist_di.csv',index=False)"
   ]
  },
  {
   "cell_type": "code",
   "execution_count": 118,
   "metadata": {},
   "outputs": [],
   "source": [
    "# #names_1 = propka_dicts[..., 0]\n",
    "# names_2 = saps[..., 0]\n",
    "# #names = np.intersect1d(names_1, names_2)\n",
    "\n",
    "# #print(len(names_1), len(names_2))\n",
    "\n",
    "# saps_ = np.array(saps[..., -1])\n",
    "# propka = np.array([propka[7.0] for propka in propka_dicts[..., 1]])\n",
    "\n",
    "# def DI(charges, sap_score, beta = 0.0815):\n",
    "\n",
    "#     di = {}\n",
    "#     for k, v in charges.items():\n",
    "#         di[k] = sap_score - beta * v[1]\n",
    "\n",
    "#     return di\n",
    "\n",
    "# beta = 0.0815\n",
    "\n",
    "# dis = saps_ - beta * propka[..., 2]\n",
    "\n",
    "# print(len(propka_dicts))"
   ]
  },
  {
   "cell_type": "code",
   "execution_count": 119,
   "metadata": {},
   "outputs": [],
   "source": [
    "# df = pd.DataFrame(propka)\n",
    "# df.columns = ['folding_free_energy', 'unfolded_charge', 'folded_charge']\n",
    "# df[['sasas', 'side_chain_sasas']] = saps[..., 1:3]\n",
    "# df['SAP'] = saps_\n",
    "# df['DI'] = dis\n",
    "# df.insert(0, 'ID', [s.split('/')[-1][:-4] for s in files_1])\n",
    "# df.replace([np.inf, -np.inf], 0, inplace=True)\n",
    "# df.to_csv('./ABB_paired_SASA_SAP_ID_2.csv', index=None)"
   ]
  }
 ],
 "metadata": {
  "kernelspec": {
   "display_name": "nanob",
   "language": "python",
   "name": "python3"
  },
  "language_info": {
   "codemirror_mode": {
    "name": "ipython",
    "version": 3
   },
   "file_extension": ".py",
   "mimetype": "text/x-python",
   "name": "python",
   "nbconvert_exporter": "python",
   "pygments_lexer": "ipython3",
   "version": "3.10.4"
  }
 },
 "nbformat": 4,
 "nbformat_minor": 2
}
