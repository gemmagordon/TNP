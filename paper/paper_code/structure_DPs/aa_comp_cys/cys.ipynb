{
 "cells": [
  {
   "cell_type": "markdown",
   "metadata": {},
   "source": [
    "Code for counting free cysteines and cysteine bridges"
   ]
  },
  {
   "cell_type": "code",
   "execution_count": 1,
   "metadata": {},
   "outputs": [
    {
     "name": "stdout",
     "output_type": "stream",
     "text": [
      "Requirement already satisfied: prody in /data/pegasus/gordon/miniconda3/envs/nanob/lib/python3.10/site-packages (2.4.1)\n",
      "Requirement already satisfied: numpy<1.24,>=1.10 in /data/pegasus/gordon/miniconda3/envs/nanob/lib/python3.10/site-packages (from prody) (1.23.0)\n",
      "Requirement already satisfied: biopython<=1.79 in /data/pegasus/gordon/miniconda3/envs/nanob/lib/python3.10/site-packages (from prody) (1.77)\n",
      "Requirement already satisfied: pyparsing in /data/pegasus/gordon/miniconda3/envs/nanob/lib/python3.10/site-packages (from prody) (3.0.9)\n",
      "Requirement already satisfied: scipy in /data/pegasus/gordon/miniconda3/envs/nanob/lib/python3.10/site-packages (from prody) (1.13.1)\n",
      "Requirement already satisfied: setuptools in /data/pegasus/gordon/miniconda3/envs/nanob/lib/python3.10/site-packages (from prody) (69.5.1)\n"
     ]
    }
   ],
   "source": [
    "!pip install prody"
   ]
  },
  {
   "cell_type": "code",
   "execution_count": 2,
   "metadata": {},
   "outputs": [],
   "source": [
    "import os\n",
    "import prody as prd\n",
    "import math\n",
    "from collections import defaultdict\n",
    "import itertools\n",
    "import pandas as pd\n",
    "#from multiprocessing import Pool\n",
    "from pathlib import Path"
   ]
  },
  {
   "cell_type": "code",
   "execution_count": 3,
   "metadata": {},
   "outputs": [],
   "source": [
    "def distance(distances_1, distances_2):\n",
    "    x1, y1, z1 = distances_1\n",
    "    x2, y2, z2 = distances_2\n",
    "    distance = math.sqrt(math.pow(x2 - x1, 2) +\n",
    "               math.pow(y2 - y1, 2) +\n",
    "               math.pow(z2 - z1, 2) * 1.0)\n",
    "    return distance\n",
    "\n",
    "def ss_bonds(pdb):\n",
    "    \n",
    "    try:\n",
    "        cysteines = defaultdict(list)\n",
    "        free_cys = 0 \n",
    "        cys_bridges = 0\n",
    "\n",
    "        prot = prd.parsePDB(pdb, QUIET=True)\n",
    "        for residue in prot.iterResidues():\n",
    "            name_id = str(residue).split()\n",
    "            name_id. insert(0, str(residue.getChain()).split()[1])\n",
    "            if name_id[1] == 'CYS':\n",
    "                cysteines['_'.join(name_id)].extend(list(residue.getAtom('SG').getCoords()))\n",
    "                #print('_'.join(name_id))\n",
    "\n",
    "        ss_bonds = []\n",
    "\n",
    "        for pair in itertools.combinations(cysteines.keys(), r=2):\n",
    "            if pair[0] != pair[1]:\n",
    "                d = distance(cysteines[pair[0]], cysteines[pair[1]])\n",
    "                if d <= 4.0:\n",
    "                    ss_bonds.append((pair) + (d, ))\n",
    "                    cys_bridges += 1\n",
    "                else:\n",
    "                    free_cys +=1\n",
    "                    \n",
    "    except Exception:\n",
    "        free_cys, cys_bridges = 0, 0\n",
    "\n",
    "    return free_cys, cys_bridges"
   ]
  },
  {
   "cell_type": "code",
   "execution_count": null,
   "metadata": {},
   "outputs": [],
   "source": [
    "dataset_name = 'vhh_tsd'\n",
    "structure_path = '/reduced_strucs/reduced_'+dataset_name+'/'\n",
    "#structures = [str(s).split('/')[-1] for s in list(Path(structure_path).glob('**/*.pdb'))]\n",
    "structures = os.listdir(structure_path)\n",
    "files = [structure_path + structure for structure in structures]"
   ]
  },
  {
   "cell_type": "code",
   "execution_count": 22,
   "metadata": {},
   "outputs": [
    {
     "name": "stderr",
     "output_type": "stream",
     "text": [
      "@> 1845 atoms and 1 coordinate set(s) were parsed in 0.04s.\n",
      "@> 1925 atoms and 1 coordinate set(s) were parsed in 0.03s.\n"
     ]
    },
    {
     "name": "stderr",
     "output_type": "stream",
     "text": [
      "@> 1750 atoms and 1 coordinate set(s) were parsed in 0.02s.\n",
      "@> 1792 atoms and 1 coordinate set(s) were parsed in 0.02s.\n",
      "@> 1685 atoms and 1 coordinate set(s) were parsed in 0.02s.\n",
      "@> 1782 atoms and 1 coordinate set(s) were parsed in 0.02s.\n",
      "@> 1768 atoms and 1 coordinate set(s) were parsed in 0.02s.\n",
      "@> 1853 atoms and 1 coordinate set(s) were parsed in 0.02s.\n",
      "@> 1863 atoms and 1 coordinate set(s) were parsed in 0.02s.\n",
      "@> 1715 atoms and 1 coordinate set(s) were parsed in 0.02s.\n",
      "@> 1742 atoms and 1 coordinate set(s) were parsed in 0.02s.\n",
      "@> 1700 atoms and 1 coordinate set(s) were parsed in 0.02s.\n",
      "@> 1858 atoms and 1 coordinate set(s) were parsed in 0.02s.\n",
      "@> 1757 atoms and 1 coordinate set(s) were parsed in 0.02s.\n",
      "@> 1766 atoms and 1 coordinate set(s) were parsed in 0.02s.\n",
      "@> 1840 atoms and 1 coordinate set(s) were parsed in 0.02s.\n",
      "@> 1773 atoms and 1 coordinate set(s) were parsed in 0.02s.\n",
      "@> 1773 atoms and 1 coordinate set(s) were parsed in 0.02s.\n",
      "@> 1727 atoms and 1 coordinate set(s) were parsed in 0.02s.\n",
      "@> 1810 atoms and 1 coordinate set(s) were parsed in 0.02s.\n",
      "@> 1792 atoms and 1 coordinate set(s) were parsed in 0.02s.\n",
      "@> 1904 atoms and 1 coordinate set(s) were parsed in 0.02s.\n",
      "@> 1915 atoms and 1 coordinate set(s) were parsed in 0.02s.\n",
      "@> 1718 atoms and 1 coordinate set(s) were parsed in 0.02s.\n",
      "@> 1744 atoms and 1 coordinate set(s) were parsed in 0.02s.\n",
      "@> 1905 atoms and 1 coordinate set(s) were parsed in 0.02s.\n",
      "@> 1850 atoms and 1 coordinate set(s) were parsed in 0.02s.\n",
      "@> 1866 atoms and 1 coordinate set(s) were parsed in 0.02s.\n",
      "@> 1859 atoms and 1 coordinate set(s) were parsed in 0.02s.\n",
      "@> 1759 atoms and 1 coordinate set(s) were parsed in 0.02s.\n",
      "@> 1921 atoms and 1 coordinate set(s) were parsed in 0.02s.\n",
      "@> 1852 atoms and 1 coordinate set(s) were parsed in 0.02s.\n",
      "@> 1693 atoms and 1 coordinate set(s) were parsed in 0.02s.\n",
      "@> 1870 atoms and 1 coordinate set(s) were parsed in 0.02s.\n",
      "@> 1806 atoms and 1 coordinate set(s) were parsed in 0.02s.\n",
      "@> 1751 atoms and 1 coordinate set(s) were parsed in 0.02s.\n",
      "@> 1879 atoms and 1 coordinate set(s) were parsed in 0.02s.\n",
      "@> 1842 atoms and 1 coordinate set(s) were parsed in 0.02s.\n",
      "@> 1874 atoms and 1 coordinate set(s) were parsed in 0.02s.\n",
      "@> 1791 atoms and 1 coordinate set(s) were parsed in 0.02s.\n",
      "@> 1747 atoms and 1 coordinate set(s) were parsed in 0.02s.\n",
      "@> 1859 atoms and 1 coordinate set(s) were parsed in 0.02s.\n",
      "@> 1762 atoms and 1 coordinate set(s) were parsed in 0.02s.\n",
      "@> 1708 atoms and 1 coordinate set(s) were parsed in 0.02s.\n",
      "@> 1693 atoms and 1 coordinate set(s) were parsed in 0.02s.\n",
      "@> 1912 atoms and 1 coordinate set(s) were parsed in 0.02s.\n",
      "@> 1826 atoms and 1 coordinate set(s) were parsed in 0.02s.\n",
      "@> 1916 atoms and 1 coordinate set(s) were parsed in 0.02s.\n",
      "@> 1796 atoms and 1 coordinate set(s) were parsed in 0.02s.\n",
      "@> 1839 atoms and 1 coordinate set(s) were parsed in 0.02s.\n",
      "@> 1876 atoms and 1 coordinate set(s) were parsed in 0.02s.\n",
      "@> 1867 atoms and 1 coordinate set(s) were parsed in 0.02s.\n",
      "@> 1681 atoms and 1 coordinate set(s) were parsed in 0.02s.\n",
      "@> 1867 atoms and 1 coordinate set(s) were parsed in 0.02s.\n",
      "@> 1788 atoms and 1 coordinate set(s) were parsed in 0.02s.\n",
      "@> 1880 atoms and 1 coordinate set(s) were parsed in 0.02s.\n",
      "@> 1903 atoms and 1 coordinate set(s) were parsed in 0.02s.\n",
      "@> 1862 atoms and 1 coordinate set(s) were parsed in 0.02s.\n",
      "@> 1697 atoms and 1 coordinate set(s) were parsed in 0.02s.\n",
      "@> 1850 atoms and 1 coordinate set(s) were parsed in 0.02s.\n",
      "@> 1784 atoms and 1 coordinate set(s) were parsed in 0.02s.\n",
      "@> 1875 atoms and 1 coordinate set(s) were parsed in 0.02s.\n",
      "@> 1816 atoms and 1 coordinate set(s) were parsed in 0.02s.\n",
      "@> 1915 atoms and 1 coordinate set(s) were parsed in 0.02s.\n",
      "@> 1902 atoms and 1 coordinate set(s) were parsed in 0.02s.\n",
      "@> 1856 atoms and 1 coordinate set(s) were parsed in 0.02s.\n",
      "@> 1891 atoms and 1 coordinate set(s) were parsed in 0.02s.\n",
      "@> 1683 atoms and 1 coordinate set(s) were parsed in 0.02s.\n",
      "@> 1838 atoms and 1 coordinate set(s) were parsed in 0.02s.\n",
      "@> 1793 atoms and 1 coordinate set(s) were parsed in 0.02s.\n",
      "@> 1711 atoms and 1 coordinate set(s) were parsed in 0.02s.\n",
      "@> 1771 atoms and 1 coordinate set(s) were parsed in 0.02s.\n",
      "@> 1803 atoms and 1 coordinate set(s) were parsed in 0.02s.\n",
      "@> 1796 atoms and 1 coordinate set(s) were parsed in 0.02s.\n",
      "@> 1885 atoms and 1 coordinate set(s) were parsed in 0.02s.\n",
      "@> 1837 atoms and 1 coordinate set(s) were parsed in 0.02s.\n",
      "@> 1811 atoms and 1 coordinate set(s) were parsed in 0.02s.\n",
      "@> 1913 atoms and 1 coordinate set(s) were parsed in 0.02s.\n",
      "@> 1837 atoms and 1 coordinate set(s) were parsed in 0.02s.\n",
      "@> 1887 atoms and 1 coordinate set(s) were parsed in 0.02s.\n",
      "@> 1959 atoms and 1 coordinate set(s) were parsed in 0.02s.\n",
      "@> 1744 atoms and 1 coordinate set(s) were parsed in 0.02s.\n",
      "@> 1807 atoms and 1 coordinate set(s) were parsed in 0.02s.\n",
      "@> 1892 atoms and 1 coordinate set(s) were parsed in 0.02s.\n",
      "@> 1793 atoms and 1 coordinate set(s) were parsed in 0.02s.\n",
      "@> 1765 atoms and 1 coordinate set(s) were parsed in 0.02s.\n",
      "@> 1933 atoms and 1 coordinate set(s) were parsed in 0.02s.\n",
      "@> 1726 atoms and 1 coordinate set(s) were parsed in 0.02s.\n",
      "@> 1878 atoms and 1 coordinate set(s) were parsed in 0.02s.\n",
      "@> 1681 atoms and 1 coordinate set(s) were parsed in 0.02s.\n",
      "@> 1754 atoms and 1 coordinate set(s) were parsed in 0.02s.\n",
      "@> 1854 atoms and 1 coordinate set(s) were parsed in 0.02s.\n",
      "@> 1881 atoms and 1 coordinate set(s) were parsed in 0.02s.\n",
      "@> 1827 atoms and 1 coordinate set(s) were parsed in 0.02s.\n",
      "@> 1807 atoms and 1 coordinate set(s) were parsed in 0.02s.\n",
      "@> 1678 atoms and 1 coordinate set(s) were parsed in 0.02s.\n",
      "@> 1782 atoms and 1 coordinate set(s) were parsed in 0.02s.\n",
      "@> 1901 atoms and 1 coordinate set(s) were parsed in 0.02s.\n",
      "@> 1658 atoms and 1 coordinate set(s) were parsed in 0.02s.\n",
      "@> 1703 atoms and 1 coordinate set(s) were parsed in 0.02s.\n",
      "@> 1832 atoms and 1 coordinate set(s) were parsed in 0.02s.\n",
      "@> 2025 atoms and 1 coordinate set(s) were parsed in 0.02s.\n",
      "@> 1916 atoms and 1 coordinate set(s) were parsed in 0.02s.\n",
      "@> 1874 atoms and 1 coordinate set(s) were parsed in 0.02s.\n",
      "@> 1763 atoms and 1 coordinate set(s) were parsed in 0.02s.\n",
      "@> 1822 atoms and 1 coordinate set(s) were parsed in 0.02s.\n",
      "@> 1746 atoms and 1 coordinate set(s) were parsed in 0.02s.\n",
      "@> 1837 atoms and 1 coordinate set(s) were parsed in 0.02s.\n"
     ]
    }
   ],
   "source": [
    "all_results = dict()\n",
    "for f in files:\n",
    "    structure = f.split('/')[-1].split('.')[0]\n",
    "    all_results[structure] = ss_bonds(f)\n",
    "    #all_results[f.split('/')[-1].split('.')[1]] = results"
   ]
  },
  {
   "cell_type": "code",
   "execution_count": null,
   "metadata": {},
   "outputs": [],
   "source": [
    "df = pd.DataFrame(all_results).T.reset_index()\n",
    "df.columns = ['SeqID','free_cys', 'cys_bridges']\n",
    "# df.insert(0, 'ID', [s.split('/')[-1][:-4] for s in files])\n",
    "df"
   ]
  },
  {
   "cell_type": "code",
   "execution_count": null,
   "metadata": {},
   "outputs": [],
   "source": [
    "df.to_csv('results_cys.csv', index=False)"
   ]
  },
  {
   "cell_type": "code",
   "execution_count": null,
   "metadata": {},
   "outputs": [],
   "source": []
  }
 ],
 "metadata": {
  "kernelspec": {
   "display_name": "nanob",
   "language": "python",
   "name": "python3"
  },
  "language_info": {
   "codemirror_mode": {
    "name": "ipython",
    "version": 3
   },
   "file_extension": ".py",
   "mimetype": "text/x-python",
   "name": "python",
   "nbconvert_exporter": "python",
   "pygments_lexer": "ipython3",
   "version": "3.10.4"
  }
 },
 "nbformat": 4,
 "nbformat_minor": 2
}
