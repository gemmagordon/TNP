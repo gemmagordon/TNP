{
 "cells": [
  {
   "cell_type": "markdown",
   "metadata": {},
   "source": [
    "Secondary structure metrics with BioPython/DSSP "
   ]
  },
  {
   "cell_type": "code",
   "execution_count": 10,
   "metadata": {},
   "outputs": [],
   "source": [
    "import os\n",
    "\n",
    "from Bio import BiopythonWarning\n",
    "import warnings\n",
    "with warnings.catch_warnings():\n",
    "    warnings.simplefilter('ignore', BiopythonWarning)\n",
    "\n",
    "from Bio.PDB import PDBParser\n",
    "from Bio.PDB.DSSP import DSSP\n",
    "from Bio.PDB.DSSP import ss_to_index\n",
    "\n",
    "import functools\n",
    "from collections import Counter\n",
    "import pandas as pd\n",
    "import numpy as np\n",
    "\n",
    "from pathlib import Path\n",
    "#from multiprocessing import Pool"
   ]
  },
  {
   "cell_type": "code",
   "execution_count": 11,
   "metadata": {},
   "outputs": [],
   "source": [
    "#cpus = 80"
   ]
  },
  {
   "cell_type": "code",
   "execution_count": null,
   "metadata": {},
   "outputs": [],
   "source": [
    "dataset_name = 'vhh_tsd'\n",
    "\n",
    "structure_path = '/reduced_strucs/reduced_'+dataset_name+'/'\n",
    "structures = os.listdir(structure_path)"
   ]
  },
  {
   "cell_type": "code",
   "execution_count": 23,
   "metadata": {},
   "outputs": [],
   "source": [
    "def dssp_to_dict(structure, path = structure_path):\n",
    "\n",
    "    try:\n",
    "        #print(structure[:-4])\n",
    "        p = PDBParser(QUIET=True)\n",
    "        path_to_pdb = path + structure\n",
    "        #print(path_to_pdb)\n",
    "        model = p.get_structure(\"\", path_to_pdb)[0] # GG modded here bc nested dirs\n",
    "        #print(model)\n",
    "        dssp = DSSP(model, path_to_pdb)\n",
    "        #print(dssp)\n",
    "\n",
    "        data = np.array(list(dict(dssp).values()))\n",
    "\n",
    "        init_c = Counter({\n",
    "            'H': 0,\n",
    "            'B': 0,\n",
    "            'E': 0,\n",
    "            'G': 0,\n",
    "            'I': 0,\n",
    "            'T': 0,\n",
    "            'S': 0,\n",
    "            '-': 0\n",
    "        })\n",
    "\n",
    "        get_c = Counter(data[..., 2])\n",
    "\n",
    "        ss_c = dict(functools.reduce(lambda a, b: a.update(b) or a, [init_c, get_c], Counter()))\n",
    "\n",
    "        values = np.mean(data[..., 3:].astype(np.float32), axis=0)\n",
    "\n",
    "        ss_d = {}\n",
    "        keys = ['relative_ASA', 'phi', 'psi', 'NH_O_1_relidx', \n",
    "                'NH_O_1_energy', 'O_NH_1_relidx', 'O_NH_1_energy',\n",
    "                'NH_O_2_relidx', 'NH_O_2_energy', 'O_NH_2_relidx', \n",
    "                'O_NH_2_energy']\n",
    "\n",
    "        ss_d.update(ss_c)\n",
    "\n",
    "        for n, key in enumerate(keys):\n",
    "            ss_d.update({key: values[n]})\n",
    "        \n",
    "        return ss_d\n",
    "\n",
    "    except Exception:\n",
    "        print('Error:', structure[:-4])\n",
    "        ss_d = {\n",
    "            'H': 0,\n",
    "            'B': 0,\n",
    "            'E': 0,\n",
    "            'G': 0,\n",
    "            'I': 0,\n",
    "            'T': 0,\n",
    "            'S': 0,\n",
    "            '-': 0,\n",
    "            'relative_ASA': 0, \n",
    "            'phi': 0, \n",
    "            'psi': 0, \n",
    "            'NH_O_1_relidx': 0, \n",
    "            'NH_O_1_energy': 0,\n",
    "            'O_NH_1_relidx': 0, \n",
    "            'O_NH_1_energy': 0,\n",
    "            'NH_O_2_relidx': 0,\n",
    "            'NH_O_2_energy': 0, \n",
    "            'O_NH_2_relidx': 0, \n",
    "            'O_NH_2_energy': 0\n",
    "        }\n",
    "        return ss_d"
   ]
  },
  {
   "cell_type": "code",
   "execution_count": 24,
   "metadata": {},
   "outputs": [],
   "source": [
    "all_results = dict()\n",
    "for structure in structures:\n",
    "    results = dssp_to_dict(structure, path = structure_path)\n",
    "    all_results[structure[:-4]] = results"
   ]
  },
  {
   "cell_type": "code",
   "execution_count": 26,
   "metadata": {},
   "outputs": [],
   "source": [
    "df = pd.DataFrame(all_results).reset_index()\n",
    "#print(df.shape)\n",
    "\n",
    "#df.insert(0, 'ID', [s[:-4] for s in structures])\n",
    "# df.to_csv('./ABB_paired_dssp_2.csv', index=None)\n",
    "#print(df.shape)"
   ]
  },
  {
   "cell_type": "code",
   "execution_count": null,
   "metadata": {},
   "outputs": [],
   "source": [
    "df.to_csv('results_dssp.csv', index=False)"
   ]
  },
  {
   "cell_type": "code",
   "execution_count": null,
   "metadata": {},
   "outputs": [],
   "source": []
  }
 ],
 "metadata": {
  "kernelspec": {
   "display_name": "nanob",
   "language": "python",
   "name": "python3"
  },
  "language_info": {
   "codemirror_mode": {
    "name": "ipython",
    "version": 3
   },
   "file_extension": ".py",
   "mimetype": "text/x-python",
   "name": "python",
   "nbconvert_exporter": "python",
   "pygments_lexer": "ipython3",
   "version": "3.10.4"
  }
 },
 "nbformat": 4,
 "nbformat_minor": 2
}
