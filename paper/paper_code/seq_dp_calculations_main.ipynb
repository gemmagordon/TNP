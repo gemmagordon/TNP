{
 "cells": [
  {
   "cell_type": "code",
   "execution_count": 109,
   "metadata": {},
   "outputs": [],
   "source": [
    "#Author: Habib Bashour (Greiff lab) ## modified Oct 2024 Gemma Gordon \n",
    "# convert from R to python\n",
    "# https://www.rdocumentation.org/packages/Peptides/versions/2.4.6 \n",
    "# https://github.com/althonos/peptides.py/tree/main/docs\n",
    "# https://peptides.readthedocs.io/en/stable/api/peptide.html \n",
    "\n",
    "#######PART 1#########"
   ]
  },
  {
   "cell_type": "code",
   "execution_count": 2,
   "metadata": {},
   "outputs": [],
   "source": [
    "import peptides\n",
    "import pandas as pd\n",
    "import numpy as np"
   ]
  },
  {
   "cell_type": "code",
   "execution_count": 111,
   "metadata": {},
   "outputs": [],
   "source": [
    "#first load/read a dataframe that contains the sequences you are interested in\n",
    "#this data should include aaSeqAbChain column that contains the sequence of the variable region (fv) of the antibody.\n",
    "\n",
    "#df = pd.read_csv('/data/localhost/gordon/TNP_Project/datasets/greiff_inputs/greiff_all_datasets.csv')\n",
    "# rename cols\n",
    "#df.columns = ['SeqID','Seq','Dataset']"
   ]
  },
  {
   "cell_type": "code",
   "execution_count": null,
   "metadata": {},
   "outputs": [],
   "source": [
    "dataset_name = 'VHH_TSD'"
   ]
  },
  {
   "cell_type": "code",
   "execution_count": null,
   "metadata": {},
   "outputs": [],
   "source": [
    "with open('vhh_tsd.fasta', 'r') as vh_seqs:\n",
    "    entries = [v.strip('\\n') for v in vh_seqs.readlines()]\n",
    "    headers = [e for e in entries if '>' in e]\n",
    "    seqs = [e for e in entries if '>' not in e]\n",
    "\n",
    "df = pd.DataFrame()\n",
    "df['SeqID'] = [h.strip('>') for h in headers]\n",
    "df['Seq'] = seqs\n",
    "df['Dataset'] = dataset_name\n"
   ]
  },
  {
   "cell_type": "code",
   "execution_count": 57,
   "metadata": {},
   "outputs": [],
   "source": [
    "#molecular weight etc ------\n",
    "def get_mw(seq):\n",
    "  seq = peptides.Peptide(seq) # have to instantiate class first\n",
    "  mw = seq.molecular_weight()\n",
    "  return mw\n",
    "\n",
    "def get_seqlength(seq):\n",
    "  length = len(seq)\n",
    "  return length\n",
    "\n",
    "def get_avresweight(seq):\n",
    "  seq = peptides.Peptide(seq)\n",
    "  avresweight = get_mw(seq) / (len(seq))\n",
    "  return avresweight"
   ]
  },
  {
   "cell_type": "code",
   "execution_count": 58,
   "metadata": {},
   "outputs": [],
   "source": [
    "df['Molecular Weight'] = df['Seq'].apply(get_mw)\n",
    "df['Seq Length'] = df['Seq'].apply(get_seqlength)\n",
    "df['Average Residue Weight'] = df['Seq'].apply(get_avresweight)"
   ]
  },
  {
   "cell_type": "code",
   "execution_count": null,
   "metadata": {},
   "outputs": [],
   "source": [
    "#seq = peptides.Peptide('') # input string sequence"
   ]
  },
  {
   "cell_type": "code",
   "execution_count": 60,
   "metadata": {},
   "outputs": [],
   "source": [
    "#seq.charge(pH=14, pKscale= 'Lehninger')"
   ]
  },
  {
   "cell_type": "code",
   "execution_count": 61,
   "metadata": {},
   "outputs": [],
   "source": [
    "#charge----\n",
    "\n",
    "def get_all_charges(seq):\n",
    "\n",
    "    all_charges = dict()\n",
    "    charge_intervals = np.arange(1,15,1) # for pH 1-14\n",
    "    seq = peptides.Peptide(seq)\n",
    "\n",
    "    for i in charge_intervals:\n",
    "        charge = seq.charge(pH=i, pKscale= 'Lehninger')\n",
    "        all_charges[i] = charge\n",
    "\n",
    "    return all_charges"
   ]
  },
  {
   "cell_type": "code",
   "execution_count": 62,
   "metadata": {},
   "outputs": [],
   "source": [
    "#   developability_data = developability_data %>%\n",
    "#     mutate(!!paste0(\"AbChain_\",charge_intervals[i],\"_charge\") := unlist(clusterMap(cl, get_charge, seq_input = developability_data$aaSeqAbChain, pH_input = pH_input)))\n",
    "# }\n",
    "\n",
    "df['Charges (all pH values)'] = df['Seq'].apply(get_all_charges)\n",
    "# split into new columns for individual pH values\n"
   ]
  },
  {
   "cell_type": "code",
   "execution_count": 64,
   "metadata": {},
   "outputs": [],
   "source": [
    "#pI----\n",
    "\n",
    "def get_pI(seq):\n",
    "\n",
    "    seq = peptides.Peptide(seq)\n",
    "    pI = seq.isoelectric_point(pKscale = \"Lehninger\")\n",
    "    return pI "
   ]
  },
  {
   "cell_type": "code",
   "execution_count": 65,
   "metadata": {},
   "outputs": [],
   "source": [
    "df['pI'] = df['Seq'].apply(get_pI)"
   ]
  },
  {
   "cell_type": "code",
   "execution_count": 67,
   "metadata": {},
   "outputs": [],
   "source": [
    "#photochemical----\n",
    "\n",
    "def get_mol_extcoef(seq):\n",
    "  \n",
    "  if seq.count('C') % 2 == 0: \n",
    "    return (seq.count('Y')*1490) + (seq.count('W')*5500) + ((seq.count('C')/2)*125)\n",
    "\n",
    "  else:\n",
    "    return (seq.count('Y')*1490) + (seq.count('W')*5500) + (((seq.count('C')-1)/2)*125)\n",
    "\n",
    "def get_mol_extcoef_cysteine_bridges(seq): \n",
    "\n",
    "  if seq.count('C') % 2 == 0:\n",
    "    return (seq.count('C')/2)*125\n",
    "  \n",
    "  else:\n",
    "    return ((seq.count('C')-1)/2)*125"
   ]
  },
  {
   "cell_type": "code",
   "execution_count": 68,
   "metadata": {},
   "outputs": [],
   "source": [
    "df['Molecular Extinction Coefficient'] = df['Seq'].apply(get_mol_extcoef)\n",
    "df['Molecular Extinction Coefficient (Cysteine bridges)'] = df['Seq'].apply(get_mol_extcoef_cysteine_bridges)"
   ]
  },
  {
   "cell_type": "code",
   "execution_count": 69,
   "metadata": {},
   "outputs": [],
   "source": [
    "def get_percent_mol_extcoef(seq):\n",
    "  \n",
    "    if seq.count('C') % 2 == 0: \n",
    "        mol_extcoef = (seq.count('Y')*1490) + (seq.count('W')*5500) + ((seq.count('C')/2)*125)\n",
    "\n",
    "    else:\n",
    "        mol_extcoef = (seq.count('Y')*1490) + (seq.count('W')*5500) + (((seq.count('C')-1)/2)*125)\n",
    "    \n",
    "    return (mol_extcoef * 10) / get_mw(seq)\n",
    "\n",
    "def get_percent_mol_extcoef_cysteine_bridges(seq): \n",
    "\n",
    "    if seq.count('C') % 2 == 0:\n",
    "        mol_extcoef_cys = (seq.count('C')/2)*125\n",
    "\n",
    "    else:\n",
    "        mol_extcoef_cys = ((seq.count('C')-1)/2)*125\n",
    "\n",
    "    return (mol_extcoef_cys * 10) / get_mw(seq)"
   ]
  },
  {
   "cell_type": "code",
   "execution_count": 70,
   "metadata": {},
   "outputs": [],
   "source": [
    "df['% Molecular Extinction Coefficient'] = df['Seq'].apply(get_percent_mol_extcoef)\n",
    "df['% Molecular Extinction Coefficient (Cysteine bridges)'] = df['Seq'].apply(get_percent_mol_extcoef_cysteine_bridges)"
   ]
  },
  {
   "cell_type": "code",
   "execution_count": 72,
   "metadata": {},
   "outputs": [],
   "source": [
    "#indexes---- \n",
    "def get_instaindex(seq):\n",
    "  if len(seq)<3:\n",
    "   return 'NA'\n",
    "  else: \n",
    "   seq = peptides.Peptide(seq)\n",
    "   return seq.instability_index()\n",
    "\n",
    "def get_aliphindex(seq):\n",
    "   seq = peptides.Peptide(seq)\n",
    "   return seq.aliphatic_index()"
   ]
  },
  {
   "cell_type": "code",
   "execution_count": 73,
   "metadata": {},
   "outputs": [],
   "source": [
    "df['Instability Index'] = df['Seq'].apply(get_instaindex)\n",
    "df['Aliphatic Index'] = df['Seq'].apply(get_aliphindex)"
   ]
  },
  {
   "cell_type": "code",
   "execution_count": 74,
   "metadata": {},
   "outputs": [],
   "source": [
    "#hydrophobicity and hmom----\n",
    "\n",
    "def get_hydrophobicity(seq):\n",
    "  seq = peptides.Peptide(seq)\n",
    "  return seq.hydrophobicity(scale='Eisenberg')\n",
    "\n",
    "def get_hmom(seq): \n",
    "  seq = peptides.Peptide(seq)\n",
    "  return seq.hydrophobic_moment(angle=160,window=10)"
   ]
  },
  {
   "cell_type": "code",
   "execution_count": 75,
   "metadata": {},
   "outputs": [],
   "source": [
    "df['Hydrophobicity'] = df['Seq'].apply(get_hydrophobicity)\n",
    "df['Hydrophobic moment'] = df['Seq'].apply(get_hmom)"
   ]
  },
  {
   "cell_type": "code",
   "execution_count": 76,
   "metadata": {},
   "outputs": [],
   "source": [
    "\n",
    "#amino acid categorical content----- \n",
    "\n",
    "def get_Aromaticity(seq):\n",
    "  return (seq.count('F') + seq.count('H') + seq.count('W') \n",
    "          + seq.count('Y'))/len(seq) * 100\n",
    "\n",
    "# Tiny (A+C+G+S+T)\n",
    "def get_Tiny(seq):\n",
    "  return (seq.count('A') + seq.count('C') + seq.count('G') \n",
    "          + seq.count('S') + seq.count('T'))/len(seq) * 100\n",
    "\n",
    "# Small (A+C+D+G+N+P+S+T+V)\n",
    "def get_Small(seq):\n",
    "  return (seq.count('A') + seq.count('C') + seq.count('D') \n",
    "          + seq.count('G') + seq.count('N') + seq.count('P') \n",
    "          + seq.count('S') + seq.count('T') + seq.count('V'))/len(seq) * 100\n",
    "\n",
    "# Aliphatic (A+I+L+V)\n",
    "def get_Aliphatic(seq): \n",
    "  return (seq.count('A') + seq.count('I') + seq.count('L') \n",
    "          + seq.count('V'))/len(seq) * 100\n",
    "\n",
    "# Nonpolar (A+C+F+G+I+L+M+P+V+W+Y) \n",
    "def get_Nonpolar(seq): \n",
    "  return (seq.count('A') + seq.count('C') + seq.count('F')\n",
    "          + seq.count('G') + seq.count('I') + seq.count('L') \n",
    "          + seq.count('M') + seq.count('P') + seq.count('V') \n",
    "          + seq.count('W') + seq.count('Y')) / len(seq) * 100\n",
    "\n",
    "# Polar  (D+E+H+K+N+Q+R+S+T)\n",
    "def get_Polar(seq): \n",
    "  return (seq.count('D') + seq.count('E') + seq.count('H')\n",
    "          + seq.count('K') + seq.count('N') + seq.count('Q') \n",
    "          + seq.count('R') + seq.count('S') + seq.count('T'))/ len(seq) * 100\n",
    "\n",
    "# Basic (H+K+R)\n",
    "def get_Basic(seq):\n",
    "  return seq.count('H')+ seq.count('K') + seq.count('R')/len(seq) * 100\n",
    "\n",
    "# Acidic (D+E)\n",
    "def get_Acidic(seq): \n",
    "  return seq.count('D')+ seq.count('E')/len(seq) * 100"
   ]
  },
  {
   "cell_type": "code",
   "execution_count": 77,
   "metadata": {},
   "outputs": [],
   "source": [
    "df['Aromatic content'] = df['Seq'].apply(get_Aromaticity)\n",
    "df['Tiny content'] = df['Seq'].apply(get_Tiny)\n",
    "df['Small content'] = df['Seq'].apply(get_Small)\n",
    "df['Aliphatic content'] = df['Seq'].apply(get_Aliphatic)\n",
    "df['Nonpolar content'] = df['Seq'].apply(get_Nonpolar)\n",
    "df['Polar content'] = df['Seq'].apply(get_Polar)\n",
    "df['Basic content'] = df['Seq'].apply(get_Basic)\n",
    "df['Acidic content'] = df['Seq'].apply(get_Acidic)"
   ]
  },
  {
   "cell_type": "code",
   "execution_count": null,
   "metadata": {},
   "outputs": [],
   "source": [
    "# write out developability data to csv\n",
    "df.to_csv('results.csv', index=False)"
   ]
  },
  {
   "cell_type": "code",
   "execution_count": null,
   "metadata": {},
   "outputs": [],
   "source": []
  }
 ],
 "metadata": {
  "kernelspec": {
   "display_name": "nanob",
   "language": "python",
   "name": "python3"
  },
  "language_info": {
   "codemirror_mode": {
    "name": "ipython",
    "version": 3
   },
   "file_extension": ".py",
   "mimetype": "text/x-python",
   "name": "python",
   "nbconvert_exporter": "python",
   "pygments_lexer": "ipython3",
   "version": "3.10.4"
  }
 },
 "nbformat": 4,
 "nbformat_minor": 2
}
