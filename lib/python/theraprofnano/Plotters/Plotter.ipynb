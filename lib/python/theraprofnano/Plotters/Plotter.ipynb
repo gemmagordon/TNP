{
 "cells": [
  {
   "cell_type": "markdown",
   "id": "8395154e",
   "metadata": {},
   "source": [
    "Code for web-app plots"
   ]
  },
  {
   "cell_type": "code",
   "execution_count": 35,
   "id": "bc331422",
   "metadata": {},
   "outputs": [],
   "source": [
    "import os,glob\n",
    "import json\n",
    "import numpy as np\n",
    "import matplotlib\n",
    "matplotlib.use('agg')\n",
    "import matplotlib.pyplot as plt\n",
    "import mpld3\n",
    "import os\n",
    "import pandas as pd"
   ]
  },
  {
   "cell_type": "code",
   "execution_count": 36,
   "id": "7a47387a",
   "metadata": {},
   "outputs": [],
   "source": [
    "def generate_normalised_arrays(dict):\n",
    "\t\n",
    "\tcdrhasa_array = []\n",
    "\t\n",
    "\tfor therapeutic in dict:\n",
    "\t\tcdrhasa_array.append(dict[therapeutic])\n",
    "\t\n",
    "\tweights = np.ones_like(cdrhasa_array)/len(cdrhasa_array)\n",
    "\tnpcdrhasa_array = np.asarray(cdrhasa_array)\n",
    "\n",
    "\treturn npcdrhasa_array, weights"
   ]
  },
  {
   "cell_type": "code",
   "execution_count": 37,
   "id": "6dcfa2c6",
   "metadata": {},
   "outputs": [],
   "source": [
    "def plot_overlapping_hists(ther_cdrhasa,ther_weights,red_lower,amber_lower,amber_upper,red_upper, label, jsonfilename):\n",
    "        \n",
    "        plt.rc('font',size = 15)\n",
    "        plt.rc('axes',titlesize = 15)\n",
    "        plt.rc('axes', labelsize = 15)\n",
    "        plt.rc('xtick',labelsize = 15)\n",
    "        plt.rc('ytick',labelsize = 15)\n",
    "        plt.rc('legend',fontsize = 15)\n",
    "        plt.rc('figure', titlesize = 15)\n",
    "        fig, ax = plt.subplots()\n",
    "        #bins = np.histogram(np.hstack((ngs_jaro_cdrhasa,ther_cdrhasa)),bins=50)[1]\n",
    "        bins=50\n",
    "        #ax.hist(ngs_jaro_cdrhasa, bins, weights=ngs_jaro_weights, color='red',alpha=0.60,edgecolor='black',linewidth=1.0,label='Human NGS Models')\n",
    "        ax.hist(ther_cdrhasa, bins, weights=ther_weights,color='blue',alpha=0.60,edgecolor='black',linewidth=1.0,label=label)\n",
    "        plt.xlim(0,3) # this will need to be adjusted for different metrics\n",
    "\n",
    "        ax.axvline(amber_upper,c='orange',linestyle='dashed')    #upper amber flag\n",
    "        ax.axvline(red_upper,c='red',linestyle='dashed')   #upper red flag\n",
    "        ax.axvline(1,c='black')   #A placeholder for the \"currently tested antibody\" line     NB: all above values will need correction\n",
    "\n",
    "        ax.axvline(red_lower,c='red',linestyle='dashed')    #lower red flag\n",
    "        ax.axvline(amber_lower,c='orange',linestyle='dashed')    #lower amber flag\n",
    "        #ax.set_xlabel('CDR Vicinity PSH Score')\n",
    "\t#ax.set_ylabel('Proportion')\n",
    "        #plt.legend()\n",
    "        #plt.show()\n",
    "        mpld3.save_json(fig,jsonfilename)\n",
    "\n",
    "#####################################\t"
   ]
  },
  {
   "cell_type": "code",
   "execution_count": 38,
   "id": "a5a18010",
   "metadata": {},
   "outputs": [
    {
     "name": "stdout",
     "output_type": "stream",
     "text": [
      "{'Brivekimig1_VHH1': 1.3490025464805475, 'Brivekimig1_VHH2': 1.3787891039486937, 'Brivekimig2_VHH1': 0.8338285778893993, 'Caplacizumab_VHH1': 1.5255574839245365, 'Enristomig_VHH1': 0.5634161539313097, 'Enristomig_VHH2': 1.0419628412353203, 'Envafolimab_VHH1': 1.613227748114984, 'Erfonrilimab_VHH2': 1.5764317661320324, 'Gacovetug_VHH1': 1.2682143336597356, 'Gefurulimab_VHH1': 1.4154058993190126, 'Gefurulimab_VHH2': 1.519284700681302, 'Gocatamig2_VHH1': 0.818210270050077, 'Gontivimab_VHH1': 1.3628201321000857, 'Gontivimab_VHH2': 1.3591966486093177, 'Isecarosmab_VHH1': 1.4517221315234696, 'Isecarosmab_VHH2': 0.8036008068608476, 'Letolizumab_VHH1': 0.9977219202003172, 'Lofacimig_VHH1': 1.4901279939390242, 'Lofacimig_VHH2': 1.3175446457745037, 'Lunsekimig1_VHH1': 1.2316878641710851, 'Lunsekimig1_VHH2': 1.393892747297849, 'Lunsekimig2_VHH1': 0.8504631769323002, 'Lunsekimig3_VHH1': 1.4790361912527, 'Ozekibart_VHH1': 1.2988714625735889, 'Ozoralizumab_VHH1': 0.9798011819556648, 'Ozoralizumab_VHH2': 0.853596158098202, 'Podentamig1_VHH1': 0.9225983659369488, 'Podentamig1_VHH2': 0.827796689360352, 'Porustobart_VHH1': 1.1085082441923682, 'Produvofusp_VHH1': 1.5667025601816804, 'Rimteravimab_VHH1': 1.431872144703911, 'Sonelokimab1_VHH1': 1.3220357054514895, 'Sonelokimab2_VHH1': 1.347861361241381, 'Tarperprumig_VHH1': 1.4155979455995833, 'Tarperprumig_VHH2': 0.8892732388487662, 'Vobarilizumab_VHH1': 1.0128207822211646}\n",
      "1.613227748114984 1.5691348616692684 0.5634161539313097 0.8145579042527696\n"
     ]
    }
   ],
   "source": [
    "#if __name__ == '__main__':\n",
    "#acceptable_answers = ['0','1','2','3','4']\t\n",
    "\n",
    "#Load in the therapeutic data and generate the appropriate arrays\n",
    "# with open('TAP_Results_Multientry_Dec22TAPUpdates.json','r') as fi:\n",
    "#     data_ther = json.load(fi)\n",
    "#     metric_data = {}\n",
    "#     for ab in data_ther:\n",
    "#         metric_data[ab] = data_ther[ab]['PSH']\n",
    "\n",
    "# NOTE just loading Nb CST data in from final datasets\n",
    "\n",
    "# Total CDR length,Patches CDR Surface Hydrophobicity,Patches CDR Positive Charge,Patches CDR Negative Charge,CDR3 length,CDR3 compactness\n",
    "\n",
    "data_ther = pd.read_csv('/data/localhost/gordon/TNP_Project/RESULTS ANALYSIS/FINAL DATASETS/VHH_TSD_all_properties_FINAL.csv')\n",
    "metric = 'CDR3 compactness'\n",
    "metric_data = dict()\n",
    "for ther, value in zip(data_ther['SeqID'], data_ther[metric]):\n",
    "    metric_data[ther] = value\n",
    "\n",
    "print(metric_data)\n",
    "\n",
    "red_upper = np.percentile([metric_data[x] for x in metric_data],100)\n",
    "amber_upper = np.percentile([metric_data[x] for x in metric_data],95)\n",
    "amber_lower = np.percentile([metric_data[x] for x in metric_data], 5)\n",
    "red_lower = np.percentile([metric_data[x] for x in metric_data], 0)\n",
    "\n",
    "print(red_upper, amber_upper, red_lower, amber_lower)\n",
    "\n",
    "therapeutic_array, therapeutic_weights = generate_normalised_arrays(metric_data)\n"
   ]
  },
  {
   "cell_type": "code",
   "execution_count": 39,
   "id": "a96f8f3a",
   "metadata": {},
   "outputs": [
    {
     "data": {
      "text/plain": [
       "array([1.34900255, 1.3787891 , 0.83382858, 1.52555748, 0.56341615,\n",
       "       1.04196284, 1.61322775, 1.57643177, 1.26821433, 1.4154059 ,\n",
       "       1.5192847 , 0.81821027, 1.36282013, 1.35919665, 1.45172213,\n",
       "       0.80360081, 0.99772192, 1.49012799, 1.31754465, 1.23168786,\n",
       "       1.39389275, 0.85046318, 1.47903619, 1.29887146, 0.97980118,\n",
       "       0.85359616, 0.92259837, 0.82779669, 1.10850824, 1.56670256,\n",
       "       1.43187214, 1.32203571, 1.34786136, 1.41559795, 0.88927324,\n",
       "       1.01282078])"
      ]
     },
     "execution_count": 39,
     "metadata": {},
     "output_type": "execute_result"
    }
   ],
   "source": [
    "therapeutic_array"
   ]
  },
  {
   "cell_type": "code",
   "execution_count": 40,
   "id": "99ec2495",
   "metadata": {},
   "outputs": [
    {
     "data": {
      "text/plain": [
       "array([0.02777778, 0.02777778, 0.02777778, 0.02777778, 0.02777778,\n",
       "       0.02777778, 0.02777778, 0.02777778, 0.02777778, 0.02777778,\n",
       "       0.02777778, 0.02777778, 0.02777778, 0.02777778, 0.02777778,\n",
       "       0.02777778, 0.02777778, 0.02777778, 0.02777778, 0.02777778,\n",
       "       0.02777778, 0.02777778, 0.02777778, 0.02777778, 0.02777778,\n",
       "       0.02777778, 0.02777778, 0.02777778, 0.02777778, 0.02777778,\n",
       "       0.02777778, 0.02777778, 0.02777778, 0.02777778, 0.02777778,\n",
       "       0.02777778])"
      ]
     },
     "execution_count": 40,
     "metadata": {},
     "output_type": "execute_result"
    }
   ],
   "source": [
    "therapeutic_weights"
   ]
  },
  {
   "cell_type": "code",
   "execution_count": 41,
   "id": "592c0d8f",
   "metadata": {},
   "outputs": [
    {
     "name": "stderr",
     "output_type": "stream",
     "text": [
      "/data/localhost/gordon/miniconda3/envs/nanob/lib/python3.10/site-packages/mpld3/mplexporter/exporter.py:84: UserWarning: Blended transforms not yet supported. Zoom behavior may not work as expected.\n",
      "  warnings.warn(\"Blended transforms not yet supported. \"\n"
     ]
    }
   ],
   "source": [
    "#Plot the overlapping histogram\n",
    "plot_overlapping_hists(therapeutic_array,therapeutic_weights,red_lower,amber_lower,amber_upper,red_upper,'36 CST Nbs','Nb_metric.json')"
   ]
  },
  {
   "cell_type": "code",
   "execution_count": 42,
   "id": "101a8233",
   "metadata": {},
   "outputs": [],
   "source": [
    "################################################################################################\n",
    "#Reset some parameters and save as python file\n",
    "with open(\"Nb_metric.json\",\"r\") as fi:\n",
    "    jason = json.load(fi)\n",
    "    jason['height'] = 400.0\n",
    "    jason['width'] = 400.0\n",
    "    for i in range(len(jason['axes'][0]['lines'])):\n",
    "        jason['axes'][0]['lines'][i]['linewidth'] = 3\n",
    "        jason['axes'][0]['lines'][i]['coordinates'] = 'data'\n",
    "    jason['data']['data01'][0] = [red_lower, 0, amber_lower, amber_upper, red_upper, 1] #red lower, y1, amber lower, amber upper, red upper, placeholder for result\n",
    "    jason['data']['data01'][1] = [red_lower, 0.14, amber_lower, amber_upper, red_upper, 1] #red_lower, y2, amber_lower, amber_upper, red_upper, placeholder for result, May need to change y2 as appropriate or tie it to max y value + constant\n",
    "    # jason['data']['data01'][0] = [amber_upper, 0, red_upper, 0, 0, 1] #red lower, y1, amber lower, amber upper, red upper, placeholder for result\n",
    "    # jason['data']['data01'][1] = [amber_upper, 0.4, red_upper, 0, 0, 1] #red_lower, y2, amber_lower, amber_upper, red_upper, placeholder for result, May need to change y2 as appropriate or tie it to max y value + constant"
   ]
  },
  {
   "cell_type": "code",
   "execution_count": null,
   "id": "00f0eaa8",
   "metadata": {},
   "outputs": [],
   "source": [
    "with open(\"/data/localhost/gordon/TNP_Project/TNP/lib/python/theraprofnano/Plotters/CDR3Conf_D3_Template.py\",\"w\") as fo:\n",
    "    fo.write(\"import json\\n\\n\")\n",
    "    fo.write(\"psh_graph = json.loads(\\'\"+json.dumps(jason)+\"\\')\")"
   ]
  },
  {
   "cell_type": "code",
   "execution_count": null,
   "id": "61d1edcd",
   "metadata": {},
   "outputs": [],
   "source": []
  }
 ],
 "metadata": {
  "kernelspec": {
   "display_name": "nanob",
   "language": "python",
   "name": "python3"
  },
  "language_info": {
   "codemirror_mode": {
    "name": "ipython",
    "version": 3
   },
   "file_extension": ".py",
   "mimetype": "text/x-python",
   "name": "python",
   "nbconvert_exporter": "python",
   "pygments_lexer": "ipython3",
   "version": "3.10.4"
  }
 },
 "nbformat": 4,
 "nbformat_minor": 5
}
