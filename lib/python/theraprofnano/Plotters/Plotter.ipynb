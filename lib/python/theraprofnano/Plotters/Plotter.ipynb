{
 "cells": [
  {
   "cell_type": "markdown",
   "id": "8395154e",
   "metadata": {},
   "source": [
    "Code for web-app plots"
   ]
  },
  {
   "cell_type": "code",
   "execution_count": 1,
   "id": "bc331422",
   "metadata": {},
   "outputs": [],
   "source": [
    "import os,glob\n",
    "import json\n",
    "import numpy as np\n",
    "import matplotlib\n",
    "matplotlib.use('agg')\n",
    "import matplotlib.pyplot as plt\n",
    "import mpld3\n",
    "import os\n",
    "import pandas as pd"
   ]
  },
  {
   "cell_type": "code",
   "execution_count": 2,
   "id": "7a47387a",
   "metadata": {},
   "outputs": [],
   "source": [
    "def generate_normalised_arrays(dict):\n",
    "\t\n",
    "\tcdrhasa_array = []\n",
    "\t\n",
    "\tfor therapeutic in dict:\n",
    "\t\tcdrhasa_array.append(dict[therapeutic])\n",
    "\t\n",
    "\tweights = np.ones_like(cdrhasa_array)/len(cdrhasa_array)\n",
    "\tnpcdrhasa_array = np.asarray(cdrhasa_array)\n",
    "\n",
    "\treturn npcdrhasa_array, weights"
   ]
  },
  {
   "cell_type": "code",
   "execution_count": 3,
   "id": "6dcfa2c6",
   "metadata": {},
   "outputs": [],
   "source": [
    "def plot_overlapping_hists(ther_cdrhasa,ther_weights,red_lower,amber_lower,amber_upper,red_upper, lower, label, jsonfilename):\n",
    "        \n",
    "        plt.rc('font',size = 15)\n",
    "        plt.rc('axes',titlesize = 15)\n",
    "        plt.rc('axes', labelsize = 15)\n",
    "        plt.rc('xtick',labelsize = 15)\n",
    "        plt.rc('ytick',labelsize = 15)\n",
    "        plt.rc('legend',fontsize = 15)\n",
    "        plt.rc('figure', titlesize = 15)\n",
    "        fig, ax = plt.subplots()\n",
    "        #bins = np.histogram(np.hstack((ngs_jaro_cdrhasa,ther_cdrhasa)),bins=50)[1]\n",
    "        bins=50\n",
    "        #ax.hist(ngs_jaro_cdrhasa, bins, weights=ngs_jaro_weights, color='red',alpha=0.60,edgecolor='black',linewidth=1.0,label='Human NGS Models')\n",
    "        ax.hist(ther_cdrhasa, bins, weights=ther_weights,color='blue',alpha=0.60,edgecolor='black',linewidth=1.0,label=label)\n",
    "        plt.xlim(0,3) # this will need to be adjusted for different metrics\n",
    "        if lower:\n",
    "                ax.axvline(red_lower,c='red',linestyle='dashed')    #lower red flag\n",
    "                ax.axvline(amber_lower,c='orange',linestyle='dashed')    #lower amber flag\n",
    "        ax.axvline(amber_upper,c='orange',linestyle='dashed')    #upper amber flag\n",
    "        ax.axvline(red_upper,c='red',linestyle='dashed')   #upper red flag\n",
    "        ax.axvline(1,c='black')   #A placeholder for the \"currently tested antibody\" line     NB: all above values will need correction\n",
    "        #ax.set_xlabel('CDR Vicinity PSH Score')\n",
    "\t#ax.set_ylabel('Proportion')\n",
    "        #plt.legend()\n",
    "        #plt.show()\n",
    "        mpld3.save_json(fig,jsonfilename)\n",
    "\n",
    "#####################################\t"
   ]
  },
  {
   "cell_type": "code",
   "execution_count": 4,
   "id": "a5a18010",
   "metadata": {},
   "outputs": [
    {
     "name": "stdout",
     "output_type": "stream",
     "text": [
      "{'Brivekimig1_VHH1': 0.2219, 'Brivekimig1_VHH2': 0.1682, 'Brivekimig2_VHH1': 0.0, 'Caplacizumab_VHH1': 1.217, 'Enristomig_VHH1': 0.0, 'Enristomig_VHH2': 0.0, 'Envafolimab_VHH1': 1.1373, 'Erfonrilimab_VHH2': 0.0, 'Gacovetug_VHH1': 0.1653, 'Gefurulimab_VHH1': 0.1806, 'Gefurulimab_VHH2': 0.0624, 'Gocatamig2_VHH1': 1.1149, 'Gontivimab_VHH1': 0.1069, 'Gontivimab_VHH2': 0.1056, 'Isecarosmab_VHH1': 1.2159, 'Isecarosmab_VHH2': 0.0, 'Letolizumab_VHH1': 0.2811, 'Lofacimig_VHH1': 0.0, 'Lofacimig_VHH2': 1.5286, 'Lunsekimig1_VHH1': 0.0, 'Lunsekimig1_VHH2': 0.0, 'Lunsekimig2_VHH1': 0.0477, 'Lunsekimig3_VHH1': 1.8838, 'Ozekibart_VHH1': 0.0, 'Ozoralizumab_VHH1': 0.0, 'Ozoralizumab_VHH2': 0.0, 'Podentamig1_VHH1': 0.0, 'Podentamig1_VHH2': 0.0, 'Porustobart_VHH1': 0.0, 'Produvofusp_VHH1': 0.285, 'Rimteravimab_VHH1': 0.6453, 'Sonelokimab1_VHH1': 0.2398, 'Sonelokimab2_VHH1': 1.4517, 'Tarperprumig_VHH1': 0.1406, 'Tarperprumig_VHH2': 0.1357, 'Vobarilizumab_VHH1': 0.617}\n"
     ]
    }
   ],
   "source": [
    "#if __name__ == '__main__':\n",
    "#acceptable_answers = ['0','1','2','3','4']\t\n",
    "\n",
    "#Load in the therapeutic data and generate the appropriate arrays\n",
    "# with open('TAP_Results_Multientry_Dec22TAPUpdates.json','r') as fi:\n",
    "#     data_ther = json.load(fi)\n",
    "#     metric_data = {}\n",
    "#     for ab in data_ther:\n",
    "#         metric_data[ab] = data_ther[ab]['PSH']\n",
    "\n",
    "# NOTE just loading Nb CST data in from final datasets\n",
    "\n",
    "# Total CDR length,Patches CDR Surface Hydrophobicity,Patches CDR Positive Charge,Patches CDR Negative Charge,CDR3 length,CDR3 compactness\n",
    "\n",
    "data_ther = pd.read_csv('/data/localhost/gordon/TNP_Project/RESULTS ANALYSIS/FINAL DATASETS/VHH_TSD_all_properties_FINAL.csv')\n",
    "metric = 'Patches CDR Negative Charge'\n",
    "metric_data = dict()\n",
    "for ther, value in zip(data_ther['SeqID'], data_ther[metric]):\n",
    "    metric_data[ther] = value\n",
    "\n",
    "print(metric_data)\n",
    "\n",
    "red_upper = np.percentile([metric_data[x] for x in metric_data],100)\n",
    "amber_upper = np.percentile([metric_data[x] for x in metric_data],95)\n",
    "amber_lower = np.percentile([metric_data[x] for x in metric_data], 5)\n",
    "red_lower = np.percentile([metric_data[x] for x in metric_data], 0)\n",
    "\n",
    "therapeutic_array, therapeutic_weights = generate_normalised_arrays(metric_data)\n"
   ]
  },
  {
   "cell_type": "code",
   "execution_count": 5,
   "id": "a96f8f3a",
   "metadata": {},
   "outputs": [
    {
     "data": {
      "text/plain": [
       "array([0.2219, 0.1682, 0.    , 1.217 , 0.    , 0.    , 1.1373, 0.    ,\n",
       "       0.1653, 0.1806, 0.0624, 1.1149, 0.1069, 0.1056, 1.2159, 0.    ,\n",
       "       0.2811, 0.    , 1.5286, 0.    , 0.    , 0.0477, 1.8838, 0.    ,\n",
       "       0.    , 0.    , 0.    , 0.    , 0.    , 0.285 , 0.6453, 0.2398,\n",
       "       1.4517, 0.1406, 0.1357, 0.617 ])"
      ]
     },
     "execution_count": 5,
     "metadata": {},
     "output_type": "execute_result"
    }
   ],
   "source": [
    "therapeutic_array"
   ]
  },
  {
   "cell_type": "code",
   "execution_count": 6,
   "id": "99ec2495",
   "metadata": {},
   "outputs": [
    {
     "data": {
      "text/plain": [
       "array([0.02777778, 0.02777778, 0.02777778, 0.02777778, 0.02777778,\n",
       "       0.02777778, 0.02777778, 0.02777778, 0.02777778, 0.02777778,\n",
       "       0.02777778, 0.02777778, 0.02777778, 0.02777778, 0.02777778,\n",
       "       0.02777778, 0.02777778, 0.02777778, 0.02777778, 0.02777778,\n",
       "       0.02777778, 0.02777778, 0.02777778, 0.02777778, 0.02777778,\n",
       "       0.02777778, 0.02777778, 0.02777778, 0.02777778, 0.02777778,\n",
       "       0.02777778, 0.02777778, 0.02777778, 0.02777778, 0.02777778,\n",
       "       0.02777778])"
      ]
     },
     "execution_count": 6,
     "metadata": {},
     "output_type": "execute_result"
    }
   ],
   "source": [
    "therapeutic_weights"
   ]
  },
  {
   "cell_type": "code",
   "execution_count": 7,
   "id": "592c0d8f",
   "metadata": {},
   "outputs": [
    {
     "name": "stderr",
     "output_type": "stream",
     "text": [
      "/data/localhost/gordon/miniconda3/envs/nanob/lib/python3.10/site-packages/mpld3/mplexporter/exporter.py:84: UserWarning: Blended transforms not yet supported. Zoom behavior may not work as expected.\n",
      "  warnings.warn(\"Blended transforms not yet supported. \"\n"
     ]
    }
   ],
   "source": [
    "#Plot the overlapping histogram\n",
    "plot_overlapping_hists(therapeutic_array,therapeutic_weights,red_lower,amber_lower,amber_upper,red_upper,False,'36 CST Nbs','Nb_metric.json')"
   ]
  },
  {
   "cell_type": "code",
   "execution_count": 8,
   "id": "101a8233",
   "metadata": {},
   "outputs": [],
   "source": [
    "################################################################################################\n",
    "#Reset some parameters and save as python file\n",
    "with open(\"Nb_metric.json\",\"r\") as fi:\n",
    "    jason = json.load(fi)\n",
    "    jason['height'] = 400.0\n",
    "    jason['width'] = 400.0\n",
    "    for i in range(len(jason['axes'][0]['lines'])):\n",
    "        jason['axes'][0]['lines'][i]['linewidth'] = 3\n",
    "        jason['axes'][0]['lines'][i]['coordinates'] = 'data'\n",
    "    jason['data']['data01'][0] = [red_lower, 0, amber_lower, amber_upper, red_upper, 1] #red lower, y1, amber lower, amber upper, red upper, placeholder for result\n",
    "    jason['data']['data01'][1] = [red_lower, 0.06, amber_lower, amber_upper, red_upper, 1] #red_lower, y2, amber_lower, amber_upper, red_upper, placeholder for result, May need to change y2 as appropriate or tie it to max y value + constant"
   ]
  },
  {
   "cell_type": "code",
   "execution_count": 9,
   "id": "00f0eaa8",
   "metadata": {},
   "outputs": [],
   "source": [
    "with open(\"/data/localhost/gordon/TNP_Project/TNP_FR2/lib/python/theraprofnanofr2/Plotters/PNC_D3_Template.py\",\"w\") as fo:\n",
    "    fo.write(\"import json\\n\\n\")\n",
    "    fo.write(\"pnc_graph = json.loads(\\'\"+json.dumps(jason)+\"\\')\")"
   ]
  },
  {
   "cell_type": "code",
   "execution_count": null,
   "id": "61d1edcd",
   "metadata": {},
   "outputs": [],
   "source": []
  }
 ],
 "metadata": {
  "kernelspec": {
   "display_name": "nanob",
   "language": "python",
   "name": "python3"
  },
  "language_info": {
   "codemirror_mode": {
    "name": "ipython",
    "version": 3
   },
   "file_extension": ".py",
   "mimetype": "text/x-python",
   "name": "python",
   "nbconvert_exporter": "python",
   "pygments_lexer": "ipython3",
   "version": "3.10.4"
  }
 },
 "nbformat": 4,
 "nbformat_minor": 5
}
